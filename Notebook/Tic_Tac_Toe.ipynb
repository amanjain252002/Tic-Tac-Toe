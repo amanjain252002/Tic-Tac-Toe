{
  "nbformat": 4,
  "nbformat_minor": 0,
  "metadata": {
    "colab": {
      "name": "Copy of Tic_Tac_Toe.ipynb",
      "provenance": []
    },
    "kernelspec": {
      "name": "python3",
      "display_name": "Python 3"
    },
    "accelerator": "GPU"
  },
  "cells": [
    {
      "cell_type": "code",
      "metadata": {
        "id": "DBl4XMVO7bzi"
      },
      "source": [
        "import random\n",
        "import numpy as np\n",
        "import tensorflow as tf"
      ],
      "execution_count": 1,
      "outputs": []
    },
    {
      "cell_type": "code",
      "metadata": {
        "id": "mMu4LnR31-Q8"
      },
      "source": [
        "def Display_Board(Arr, i):\n",
        "  # This Funtion Displays Tic Tac Toe Game\n",
        "  print(\"Move No: \" + str(i))\n",
        "  print()\n",
        "  print(\" #\", Arr[0][0], \"|\", Arr[0][1], \"|\", Arr[0][2], \"#\")\n",
        "  print(\"---------------\")\n",
        "  print(\" #\", Arr[1][0], \"|\", Arr[1][1], \"|\", Arr[1][2], \"#\")\n",
        "  print(\"---------------\")\n",
        "  print(\" #\", Arr[2][0], \"|\", Arr[2][1], \"|\", Arr[2][2], \"#\")"
      ],
      "execution_count": 2,
      "outputs": []
    },
    {
      "cell_type": "code",
      "metadata": {
        "id": "kyGfKPQ4r2-m"
      },
      "source": [
        "def Toss():\n",
        "  # This Fuction decides how will start the Game\n",
        "  Number = random.randint(1, 2)\n",
        "  if(Number == 1):\n",
        "    return \"Computer\"\n",
        "  else:\n",
        "    return \"Human\""
      ],
      "execution_count": 3,
      "outputs": []
    },
    {
      "cell_type": "code",
      "metadata": {
        "id": "jtfv0yCP4nag"
      },
      "source": [
        "def Row_Check(A):\n",
        "  # This Fuction helps in deciding Winner\n",
        "  Winner = \"No Body\"\n",
        "  for i in range(3):\n",
        "    if((A[i][0] == A[i][1]) and (A[i][0] == A[i][2])):\n",
        "      if(A[i][0] == 'X'):\n",
        "        Winner = \"Human\"\n",
        "        return True, Winner\n",
        "      elif(A[i][0] == 'O'):\n",
        "        Winner = \"Computer\"\n",
        "        return True, Winner\n",
        "  return False, Winner"
      ],
      "execution_count": 4,
      "outputs": []
    },
    {
      "cell_type": "code",
      "metadata": {
        "id": "w3P8Gq6V5oLn"
      },
      "source": [
        "def Column_Check(A):\n",
        "  # This Fuction helps in deciding Winner\n",
        "  Winner = \"No Body\"\n",
        "  for i in range(3):\n",
        "    if((A[0][i] == A[1][i]) and (A[0][i] == A[2][i])):\n",
        "      if(A[0][i] == 'X'):\n",
        "        Winner = \"Human\"\n",
        "        return True, Winner\n",
        "      elif(A[0][i] == 'O'):\n",
        "        Winner = \"Computer\"\n",
        "        return True, Winner\n",
        "  return False, Winner"
      ],
      "execution_count": 5,
      "outputs": []
    },
    {
      "cell_type": "code",
      "metadata": {
        "id": "Z7VAB5Gm57R-"
      },
      "source": [
        "def Digonal_Check(A):\n",
        "  # This Function helps in deciding Winner\n",
        "  Winner = \"No Body\"\n",
        "  if((A[0][0] == A[1][1]) and (A[0][0] == A[2][2])):\n",
        "    if(A[0][0] == 'X'):\n",
        "      Winner = \"Human\"\n",
        "      return True, Winner\n",
        "    elif(A[0][0] == 'O'):\n",
        "      Winner = \"Computer\"\n",
        "      return True, Winner\n",
        "  elif((A[0][2] == A[1][1]) and (A[0][2] == A[2][0])):\n",
        "    if(A[0][2] == 'X'):\n",
        "      Winner = \"Human\"\n",
        "      return True, Winner\n",
        "    elif(A[0][2] == 'O'):\n",
        "      Winner = \"Computer\"\n",
        "      return True, Winner\n",
        "  return False, Winner"
      ],
      "execution_count": 6,
      "outputs": []
    },
    {
      "cell_type": "code",
      "metadata": {
        "id": "mw-REqan3PXw"
      },
      "source": [
        "def Check_Win(Arr):\n",
        "  # This Fuction decides the Winner\n",
        "  Game_Over = False\n",
        "  Winner = \"No Body\"\n",
        "  Game_Over_1, Winner_1 = Row_Check(Arr)\n",
        "  Game_Over_2, Winner_2 = Column_Check(Arr)\n",
        "  Game_Over_3, Winner_3 = Digonal_Check(Arr)\n",
        "  if(Game_Over_1 or Game_Over_2 or Game_Over_3):\n",
        "    Game_Over = True\n",
        "    if(Game_Over_1):\n",
        "      Winner = Winner_1\n",
        "    elif(Game_Over_2):\n",
        "      Winner = Winner_2\n",
        "    else:\n",
        "      Winner = Winner_3\n",
        "  return Game_Over, Winner"
      ],
      "execution_count": 7,
      "outputs": []
    },
    {
      "cell_type": "code",
      "metadata": {
        "id": "EsJaE9pB7n8u"
      },
      "source": [
        "def Training_Bot(Arr):\n",
        "  # This is random bot helps in training the model\n",
        "  X = random.randint(0, 2)\n",
        "  Y = random.randint(0, 2)\n",
        "  while(Arr[X][Y] != ' '):\n",
        "    X = random.randint(0, 2)\n",
        "    Y = random.randint(0, 2)\n",
        "  Arr[X][Y] = 'X'\n",
        "  return Arr"
      ],
      "execution_count": 8,
      "outputs": []
    },
    {
      "cell_type": "code",
      "metadata": {
        "id": "6RL5U-OB9-p4"
      },
      "source": [
        "def Player_Move(Arr):\n",
        "  # This Function takes input from the human player\n",
        "  X, Y = list(map(int, input().split()))\n",
        "  Arr[X][Y] = 'X'\n",
        "  return Arr"
      ],
      "execution_count": 9,
      "outputs": []
    },
    {
      "cell_type": "code",
      "metadata": {
        "id": "uft3yrWpZvzT"
      },
      "source": [
        "# This model acts as a Computer Player\n",
        "model = tf.keras.models.Sequential([\n",
        "                                      tf.keras.layers.Dense(64, input_shape = [9], activation = 'relu'),\n",
        "                                      tf.keras.layers.Dense(128, activation = 'relu'),\n",
        "                                      tf.keras.layers.Dense(128, activation = 'relu'),\n",
        "                                      tf.keras.layers.Dense(128, activation = 'relu'),\n",
        "                                      tf.keras.layers.Dense(1, activation = 'sigmoid')\n",
        "])"
      ],
      "execution_count": 10,
      "outputs": []
    },
    {
      "cell_type": "code",
      "metadata": {
        "id": "8vDkxjXxezh5"
      },
      "source": [
        "model.compile(optimizer = 'adam', loss = 'BinaryCrossentropy', metrics = 'BinaryCrossentropy')"
      ],
      "execution_count": 11,
      "outputs": []
    },
    {
      "cell_type": "code",
      "metadata": {
        "id": "xWSiDVeDz9Ip"
      },
      "source": [
        "# This model helps in training the Computer Player \n",
        "Training_model = tf.keras.models.Sequential([\n",
        "                                      tf.keras.layers.Dense(64, input_shape = [9], activation = 'relu'),\n",
        "                                      tf.keras.layers.Dense(128, activation = 'relu'),\n",
        "                                      tf.keras.layers.Dense(128, activation = 'relu'),\n",
        "                                      tf.keras.layers.Dense(128, activation = 'relu'),\n",
        "                                      tf.keras.layers.Dense(1, activation = 'sigmoid')\n",
        "])"
      ],
      "execution_count": 12,
      "outputs": []
    },
    {
      "cell_type": "code",
      "metadata": {
        "id": "5UzcLlOm0Dgc"
      },
      "source": [
        "Training_model.compile(optimizer = 'adam', loss = 'BinaryCrossentropy', metrics = 'BinaryCrossentropy')"
      ],
      "execution_count": 13,
      "outputs": []
    },
    {
      "cell_type": "code",
      "metadata": {
        "id": "ZdX16QnSfjAO"
      },
      "source": [
        "def Computer_Move(Arr, model):\n",
        "  # This Function helps in deciding Computer Player next move\n",
        "  Input = sum(Arr, [])\n",
        "  Possible_Inputs = []\n",
        "  for i in range(9):\n",
        "    Temp = Input.copy()\n",
        "    if(Input[i] == ' '):\n",
        "      Temp[i] = 'O'\n",
        "      Possible_Inputs.append(Temp)\n",
        "  for i in range(len(Possible_Inputs)):\n",
        "    for j in range(len(Possible_Inputs[0])):\n",
        "      if(Possible_Inputs[i][j] == 'X'):\n",
        "        Possible_Inputs[i][j] = -1\n",
        "      elif(Possible_Inputs[i][j] == 'O'):\n",
        "        Possible_Inputs[i][j] = 1\n",
        "      else:\n",
        "        Possible_Inputs[i][j] = 0\n",
        "  Prediction = model.predict(Possible_Inputs)\n",
        "  Position = np.argmax(Prediction)\n",
        "  Next = Possible_Inputs[Position]\n",
        "  Next_Outcome = []\n",
        "  for i in range(3):\n",
        "    Temp = []\n",
        "    for j in range(3):\n",
        "      if(Next[3*i + j] == 1):\n",
        "        Temp.append('O')\n",
        "      elif(Next[3*i + j] == -1):\n",
        "        Temp.append('X')\n",
        "      else:\n",
        "        Temp.append(' ')\n",
        "    Next_Outcome.append(Temp)\n",
        "  return Next_Outcome"
      ],
      "execution_count": 14,
      "outputs": []
    },
    {
      "cell_type": "code",
      "metadata": {
        "id": "WJ84HC7dnk5t"
      },
      "source": [
        "def Training(model, epochs):\n",
        "  # This Fuction helps Coputer Player model train with random bot  \n",
        "  Win = 0\n",
        "  Lose = 0\n",
        "  Draw = 0\n",
        "  for i in range(epochs):\n",
        "    Train_X = []\n",
        "    Train_Y = []\n",
        "    Arr = []\n",
        "    for i in range(3):\n",
        "      Arr.append([' ', ' ', ' '])\n",
        "    i = 1\n",
        "    Game_Over = False\n",
        "    Start = Toss()\n",
        "    while((Game_Over != True) and i < 9):\n",
        "      if(Start == 'Computer'):\n",
        "        Arr = Computer_Move(Arr, model)\n",
        "        Train_X.append(sum(Arr, []))\n",
        "        i = i + 1\n",
        "        Game_Over, Winner = Check_Win(Arr)\n",
        "        if(Game_Over == False):\n",
        "          Arr = Training_Bot(Arr)\n",
        "          Game_Over, Winner = Check_Win(Arr)\n",
        "          Train_X.append(sum(Arr, []))\n",
        "          i = i + 1\n",
        "      else:\n",
        "        Arr = Training_Bot(Arr)\n",
        "        Game_Over, Winner = Check_Win(Arr)\n",
        "        Train_X.append(sum(Arr, []))\n",
        "        i = i + 1\n",
        "        if(Game_Over == False):\n",
        "          Arr = Computer_Move(Arr, model)\n",
        "          Train_X.append(sum(Arr, []))\n",
        "          i = i + 1\n",
        "          Game_Over, Winner = Check_Win(Arr)\n",
        "\n",
        "    for i in range(len(Train_X)):\n",
        "      for j in range(len(Train_X[i])):\n",
        "        if(Train_X[i][j] == ' '):\n",
        "          Train_X[i][j] = 0\n",
        "        elif(Train_X[i][j] == 'X'):\n",
        "          Train_X[i][j] = -1\n",
        "        else:\n",
        "          Train_X[i][j] = 1\n",
        "    if(Winner == \"Draw\"):\n",
        "      for i in range(len(Train_X)):\n",
        "        Train_Y.append(0)\n",
        "      Draw = Draw + 1\n",
        "    elif(Winner == 'Human'):\n",
        "      for i in range(len(Train_X)):\n",
        "        Train_Y.append(0)\n",
        "      Lose = Lose + 1\n",
        "    else:\n",
        "      for i in range(len(Train_X)):\n",
        "        Train_Y.append(1)\n",
        "      Win = Win + 1\n",
        "    model.fit(Train_X, Train_Y, epochs = 2)\n",
        "  return model, Win, Lose, Draw"
      ],
      "execution_count": 15,
      "outputs": []
    },
    {
      "cell_type": "code",
      "metadata": {
        "id": "f2KyA_DyHPdm"
      },
      "source": [
        "def Advance_Training_Bot(Arr, Training_model):\n",
        "  # This Fuction helps in deciding Advance Training Bot next move\n",
        "  Input = sum(Arr, [])\n",
        "  Possible_Inputs = []\n",
        "  for i in range(9):\n",
        "    Temp = Input.copy()\n",
        "    if(Input[i] == ' '):\n",
        "      Temp[i] = 'X'\n",
        "      Possible_Inputs.append(Temp)\n",
        "  for i in range(len(Possible_Inputs)):\n",
        "    for j in range(len(Possible_Inputs[0])):\n",
        "      if(Possible_Inputs[i][j] == 'X'):\n",
        "        Possible_Inputs[i][j] = 1\n",
        "      elif(Possible_Inputs[i][j] == ' '):\n",
        "        Possible_Inputs[i][j] = 0\n",
        "      else:\n",
        "        Possible_Inputs[i][j] = -1\n",
        "  \n",
        "  Prediction = Training_model.predict(Possible_Inputs)\n",
        "  Position = np.argmax(Prediction)\n",
        "  Next = Possible_Inputs[Position]\n",
        "  Next_Outcome = []\n",
        "  for i in range(3):\n",
        "    Temp = []\n",
        "    for j in range(3):\n",
        "      if(Next[3*i + j] == 1):\n",
        "        Temp.append('X')\n",
        "      elif(Next[3*i + j] == -1):\n",
        "        Temp.append('O')\n",
        "      else:\n",
        "        Temp.append(' ')\n",
        "    Next_Outcome.append(Temp)\n",
        "\n",
        "  return Next_Outcome"
      ],
      "execution_count": 16,
      "outputs": []
    },
    {
      "cell_type": "code",
      "metadata": {
        "id": "xw9nNxKH0yUE"
      },
      "source": [
        "def Advance_Training(model, Training_model, epochs):\n",
        "  # This Fuction helps Coputer Player model train with Advance Training Bot\n",
        "  Win = 0\n",
        "  Lose = 0\n",
        "  Draw = 0\n",
        "  for i in range(epochs):\n",
        "    Train_X = []\n",
        "    Train_Y = []\n",
        "    Test_X = []\n",
        "    Test_Y = []\n",
        "    Arr = []\n",
        "    for i in range(3):\n",
        "      Arr.append([' ', ' ', ' '])\n",
        "    i = 1\n",
        "    Game_Over = False\n",
        "    Start = Toss()\n",
        "    while((Game_Over != True) and i < 9):\n",
        "      if(Start == 'Computer'):\n",
        "        Arr = Computer_Move(Arr, model)\n",
        "        Train_X.append(sum(Arr, []))\n",
        "        Test_X.append(sum(Arr, []))\n",
        "        i = i + 1\n",
        "        Game_Over, Winner = Check_Win(Arr)\n",
        "        if(Game_Over == False):\n",
        "          Arr = Advance_Training_Bot(Arr, Training_model)\n",
        "          Game_Over, Winner = Check_Win(Arr)\n",
        "          Train_X.append(sum(Arr, []))\n",
        "          Test_X.append(sum(Arr, []))\n",
        "          i = i + 1\n",
        "      else:\n",
        "        Arr = Advance_Training_Bot(Arr, Training_model)\n",
        "        Game_Over, Winner = Check_Win(Arr)\n",
        "        Train_X.append(sum(Arr, []))\n",
        "        Test_X.append(sum(Arr, []))\n",
        "        i = i + 1\n",
        "        if(Game_Over == False):\n",
        "          Arr = Computer_Move(Arr, model)\n",
        "          Train_X.append(sum(Arr, []))\n",
        "          Test_X.append(sum(Arr, []))\n",
        "          i = i + 1\n",
        "          Game_Over, Winner = Check_Win(Arr)\n",
        "    for i in range(len(Train_X)):\n",
        "      for j in range(len(Train_X[i])):\n",
        "        if(Train_X[i][j] == ' '):\n",
        "          Train_X[i][j] = 0\n",
        "        elif(Train_X[i][j] == 'X'):\n",
        "          Train_X[i][j] = -1\n",
        "        else:\n",
        "          Train_X[i][j] = 1\n",
        "    \n",
        "    for i in range(len(Test_X)):\n",
        "      for j in range(len(Test_X[0])):\n",
        "        if(Test_X[i][j] == ' '):\n",
        "          Test_X[i][j] = 0\n",
        "        elif(Test_X[i][j] == 'X'):\n",
        "          Test_X[i][j] = 1\n",
        "        else:\n",
        "          Test_X[i][j] = -1\n",
        "    \n",
        "    if(Winner == \"Draw\"):\n",
        "      for i in range(len(Train_X)):\n",
        "        Train_Y.append(0)\n",
        "      for i in range(len(Test_X)):\n",
        "        Test_Y.append(0)\n",
        "      Draw = Draw + 1\n",
        "    elif(Winner == 'Human'):\n",
        "      for i in range(len(Train_X)):\n",
        "        Train_Y.append(0)\n",
        "      for i in range(len(Test_X)):\n",
        "        Test_Y.append(1)\n",
        "      Lose = Lose + 1\n",
        "    else:\n",
        "      for i in range(len(Train_X)):\n",
        "        Train_Y.append(1)\n",
        "      for i in range(len(Test_X)):\n",
        "        Test_Y.append(0)\n",
        "      Win = Win + 1\n",
        "\n",
        "    model.fit(Train_X, Train_Y, epochs = 2)\n",
        "    Training_model.fit(Test_X, Test_Y, epochs = 2)\n",
        "  \n",
        "  return model, Training_model, Win, Lose, Draw"
      ],
      "execution_count": 17,
      "outputs": []
    },
    {
      "cell_type": "code",
      "metadata": {
        "id": "QiD-8cuv9uKz"
      },
      "source": [
        "model, Win1, Lose1, Draw1 = Training(model, 100)\n",
        "Training_model, Win2, Lose2, Draw2 = Training(Training_model, 100)"
      ],
      "execution_count": null,
      "outputs": []
    },
    {
      "cell_type": "code",
      "metadata": {
        "id": "I7mp7PgEFakG",
        "outputId": "a2a119fd-254f-4c62-aed2-f22c37cab314",
        "colab": {
          "base_uri": "https://localhost:8080/"
        }
      },
      "source": [
        "print(Win1, Lose1, Draw1)\n",
        "print(Win2, Lose2, Draw2)"
      ],
      "execution_count": 19,
      "outputs": [
        {
          "output_type": "stream",
          "text": [
            "80 20 0\n",
            "79 21 0\n"
          ],
          "name": "stdout"
        }
      ]
    },
    {
      "cell_type": "code",
      "metadata": {
        "id": "b0pSWpCh5dq-"
      },
      "source": [
        "model, Training_model, Win, Lose, Draw = Advance_Training(model, Training_model, 100)"
      ],
      "execution_count": null,
      "outputs": []
    },
    {
      "cell_type": "code",
      "metadata": {
        "id": "669a3oVs50q8",
        "outputId": "b3d0a331-6593-4744-e35e-eb8a94da31bc",
        "colab": {
          "base_uri": "https://localhost:8080/"
        }
      },
      "source": [
        "print(Win, Lose, Draw)"
      ],
      "execution_count": 21,
      "outputs": [
        {
          "output_type": "stream",
          "text": [
            "47 53 0\n"
          ],
          "name": "stdout"
        }
      ]
    },
    {
      "cell_type": "code",
      "metadata": {
        "id": "ElSGWaxjGMEa"
      },
      "source": [
        "def Game(model):\n",
        "  # This Funtion helps in starting the Game\n",
        "  Train_X = []\n",
        "  Train_Y = []\n",
        "  Arr = []\n",
        "  for i in range(3):\n",
        "    Arr.append([' ', ' ', ' '])\n",
        "  i = 1\n",
        "  Game_Over = False\n",
        "  Display_Board(Arr,  0)\n",
        "\n",
        "  Start = Toss()\n",
        "  while((Game_Over != True) and i < 9):\n",
        "    if(Start == 'Computer'):\n",
        "      Arr = Computer_Move(Arr, model)\n",
        "      Train_X.append(sum(Arr, []))\n",
        "      Display_Board(Arr, i)\n",
        "      i = i + 1\n",
        "      Game_Over, Winner = Check_Win(Arr)\n",
        "      if(Game_Over == False):\n",
        "        Arr = Player_Move(Arr)\n",
        "        Game_Over, Winner = Check_Win(Arr)\n",
        "        Display_Board(Arr, i)\n",
        "        Train_X.append(sum(Arr, []))\n",
        "        i = i + 1\n",
        "    else:\n",
        "      Arr = Player_Move(Arr)\n",
        "      Game_Over, Winner = Check_Win(Arr)\n",
        "      Display_Board(Arr, i)\n",
        "      Train_X.append(sum(Arr, []))\n",
        "      i = i + 1\n",
        "      if(Game_Over == False):\n",
        "        Arr = Computer_Move(Arr, model)\n",
        "        Train_X.append(sum(Arr, []))\n",
        "        Display_Board(Arr, i)\n",
        "        i = i + 1\n",
        "        Game_Over, Winner = Check_Win(Arr)\n",
        "\n",
        "  if(Game_Over == False):\n",
        "    print(\"Draw\")\n",
        "  elif(Game_Over == True):\n",
        "    print(Winner)\n",
        "\n",
        "  for i in range(len(Train_X)):\n",
        "    for j in range(len(Train_X[i])):\n",
        "      if(Train_X[i][j] == ' '):\n",
        "        Train_X[i][j] = 0\n",
        "      elif(Train_X[i][j] == 'X'):\n",
        "        Train_X[i][j] = -1\n",
        "      else:\n",
        "        Train_X[i][j] = 1\n",
        "  if(Winner == \"Draw\"):\n",
        "    for i in range(len(Train_X)):\n",
        "      Train_Y.append(0)\n",
        "  elif(Winner == 'Human'):\n",
        "    for i in range(len(Train_X)):\n",
        "      Train_Y.append(0)\n",
        "  else:\n",
        "    for i in range(len(Train_X)):\n",
        "      Train_Y.append(1)\n",
        "  model.fit(Train_X, Train_Y, epochs = 1)"
      ],
      "execution_count": 22,
      "outputs": []
    },
    {
      "cell_type": "code",
      "metadata": {
        "id": "CZOTb-_7STAG",
        "outputId": "ca6f57eb-9406-4139-f37f-2b9d333a294a",
        "colab": {
          "base_uri": "https://localhost:8080/"
        }
      },
      "source": [
        "Game(model)"
      ],
      "execution_count": 23,
      "outputs": [
        {
          "output_type": "stream",
          "text": [
            "Move No: 0\n",
            "\n",
            " #   |   |   #\n",
            "---------------\n",
            " #   |   |   #\n",
            "---------------\n",
            " #   |   |   #\n",
            "0 0\n",
            "Move No: 1\n",
            "\n",
            " # X |   |   #\n",
            "---------------\n",
            " #   |   |   #\n",
            "---------------\n",
            " #   |   |   #\n",
            "Move No: 2\n",
            "\n",
            " # X |   |   #\n",
            "---------------\n",
            " #   | O |   #\n",
            "---------------\n",
            " #   |   |   #\n",
            "2 2\n",
            "Move No: 3\n",
            "\n",
            " # X |   |   #\n",
            "---------------\n",
            " #   | O |   #\n",
            "---------------\n",
            " #   |   | X #\n",
            "Move No: 4\n",
            "\n",
            " # X |   |   #\n",
            "---------------\n",
            " #   | O |   #\n",
            "---------------\n",
            " # O |   | X #\n",
            "0 2\n",
            "Move No: 5\n",
            "\n",
            " # X |   | X #\n",
            "---------------\n",
            " #   | O |   #\n",
            "---------------\n",
            " # O |   | X #\n",
            "Move No: 6\n",
            "\n",
            " # X |   | X #\n",
            "---------------\n",
            " #   | O |   #\n",
            "---------------\n",
            " # O | O | X #\n",
            "0 1\n",
            "Move No: 7\n",
            "\n",
            " # X | X | X #\n",
            "---------------\n",
            " #   | O |   #\n",
            "---------------\n",
            " # O | O | X #\n",
            "Human\n",
            "1/1 [==============================] - 0s 1ms/step - loss: 0.6577 - binary_crossentropy: 0.6577\n"
          ],
          "name": "stdout"
        }
      ]
    }
  ]
}