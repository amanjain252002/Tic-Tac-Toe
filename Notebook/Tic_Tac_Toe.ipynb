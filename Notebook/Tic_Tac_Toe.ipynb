{
  "nbformat": 4,
  "nbformat_minor": 0,
  "metadata": {
    "colab": {
      "name": "Tic_Tac_Toe.ipynb",
      "provenance": []
    },
    "kernelspec": {
      "name": "python3",
      "display_name": "Python 3"
    },
    "accelerator": "GPU"
  },
  "cells": [
    {
      "cell_type": "code",
      "metadata": {
        "id": "DBl4XMVO7bzi"
      },
      "source": [
        "import random\n",
        "import numpy as np\n",
        "import tensorflow as tf"
      ],
      "execution_count": 1,
      "outputs": []
    },
    {
      "cell_type": "code",
      "metadata": {
        "id": "mMu4LnR31-Q8"
      },
      "source": [
        "def Display_Board(Arr, i):\n",
        "  print(\"Move No: \" + str(i))\n",
        "  print()\n",
        "  print(\" #\", Arr[0][0], \"|\", Arr[0][1], \"|\", Arr[0][2], \"#\")\n",
        "  print(\"---------------\")\n",
        "  print(\" #\", Arr[1][0], \"|\", Arr[1][1], \"|\", Arr[1][2], \"#\")\n",
        "  print(\"---------------\")\n",
        "  print(\" #\", Arr[2][0], \"|\", Arr[2][1], \"|\", Arr[2][2], \"#\")"
      ],
      "execution_count": 2,
      "outputs": []
    },
    {
      "cell_type": "code",
      "metadata": {
        "id": "kyGfKPQ4r2-m"
      },
      "source": [
        "def Toss():\n",
        "  Number = random.randint(1, 2)\n",
        "  if(Number == 1):\n",
        "    return \"Computer\"\n",
        "  else:\n",
        "    return \"Human\""
      ],
      "execution_count": 3,
      "outputs": []
    },
    {
      "cell_type": "code",
      "metadata": {
        "id": "jtfv0yCP4nag"
      },
      "source": [
        "def Row_Check(A):\n",
        "  Winner = \"No Body\"\n",
        "  for i in range(3):\n",
        "    if((A[i][0] == A[i][1]) and (A[i][0] == A[i][2])):\n",
        "      if(A[i][0] == 'X'):\n",
        "        Winner = \"Human\"\n",
        "        return True, Winner\n",
        "      elif(A[i][0] == 'O'):\n",
        "        Winner = \"Computer\"\n",
        "        return True, Winner\n",
        "  return False, Winner"
      ],
      "execution_count": 4,
      "outputs": []
    },
    {
      "cell_type": "code",
      "metadata": {
        "id": "w3P8Gq6V5oLn"
      },
      "source": [
        "def Column_Check(A):\n",
        "  Winner = \"No Body\"\n",
        "  for i in range(3):\n",
        "    if((A[0][i] == A[1][i]) and (A[0][i] == A[2][i])):\n",
        "      if(A[0][i] == 'X'):\n",
        "        Winner = \"Human\"\n",
        "        return True, Winner\n",
        "      elif(A[0][i] == 'O'):\n",
        "        Winner = \"Computer\"\n",
        "        return True, Winner\n",
        "  return False, Winner"
      ],
      "execution_count": 5,
      "outputs": []
    },
    {
      "cell_type": "code",
      "metadata": {
        "id": "Z7VAB5Gm57R-"
      },
      "source": [
        "def Digonal_Check(A):\n",
        "  Winner = \"No Body\"\n",
        "  if((A[0][0] == A[1][1]) and (A[0][0] == A[2][2])):\n",
        "    if(A[0][0] == 'X'):\n",
        "      Winner = \"Human\"\n",
        "      return True, Winner\n",
        "    elif(A[0][0] == 'O'):\n",
        "      Winner = \"Computer\"\n",
        "      return True, Winner\n",
        "  elif((A[0][2] == A[1][1]) and (A[0][2] == A[2][0])):\n",
        "    if(A[0][2] == 'X'):\n",
        "      Winner = \"Human\"\n",
        "      return True, Winner\n",
        "    elif(A[0][2] == 'O'):\n",
        "      Winner = \"Computer\"\n",
        "      return True, Winner\n",
        "  return False, Winner"
      ],
      "execution_count": 6,
      "outputs": []
    },
    {
      "cell_type": "code",
      "metadata": {
        "id": "mw-REqan3PXw"
      },
      "source": [
        "def Check_Win(Arr):\n",
        "  Game_Over = False\n",
        "  Winner = \"No Body\"\n",
        "  Game_Over_1, Winner_1 = Row_Check(Arr)\n",
        "  Game_Over_2, Winner_2 = Column_Check(Arr)\n",
        "  Game_Over_3, Winner_3 = Digonal_Check(Arr)\n",
        "  if(Game_Over_1 or Game_Over_2 or Game_Over_3):\n",
        "    Game_Over = True\n",
        "    if(Game_Over_1):\n",
        "      Winner = Winner_1\n",
        "    elif(Game_Over_2):\n",
        "      Winner = Winner_2\n",
        "    else:\n",
        "      Winner = Winner_3\n",
        "  return Game_Over, Winner"
      ],
      "execution_count": 7,
      "outputs": []
    },
    {
      "cell_type": "code",
      "metadata": {
        "id": "EsJaE9pB7n8u"
      },
      "source": [
        "def Training_Bot(Arr):\n",
        "  X = random.randint(0, 2)\n",
        "  Y = random.randint(0, 2)\n",
        "  while(Arr[X][Y] != '0'):\n",
        "    X = random.randint(0, 2)\n",
        "    Y = random.randint(0, 2)\n",
        "  Arr[X][Y] = 'O'\n",
        "  return Arr"
      ],
      "execution_count": 8,
      "outputs": []
    },
    {
      "cell_type": "code",
      "metadata": {
        "id": "6RL5U-OB9-p4"
      },
      "source": [
        "def Player_Move(Arr):\n",
        "  X, Y = list(map(int, input().split()))\n",
        "  Arr[X][Y] = 'X'\n",
        "  return Arr"
      ],
      "execution_count": 9,
      "outputs": []
    },
    {
      "cell_type": "code",
      "metadata": {
        "id": "uft3yrWpZvzT"
      },
      "source": [
        "model = tf.keras.models.Sequential([\n",
        "                                      tf.keras.layers.Dense(18, input_shape = [9], activation = 'relu'),\n",
        "                                      tf.keras.layers.Dropout(0.1),\n",
        "                                      tf.keras.layers.Dense(9, activation = 'relu'),\n",
        "                                      tf.keras.layers.Dropout(0.1),\n",
        "                                      tf.keras.layers.Dense(1, activation = 'sigmoid')\n",
        "])"
      ],
      "execution_count": 15,
      "outputs": []
    },
    {
      "cell_type": "code",
      "metadata": {
        "id": "8vDkxjXxezh5"
      },
      "source": [
        "model.compile(optimizer = tf.keras.optimizers.SGD(lr = 0.001), loss = 'mean_squared_error', metrics = ['accuracy', 'mean_squared_error'])"
      ],
      "execution_count": 16,
      "outputs": []
    },
    {
      "cell_type": "code",
      "metadata": {
        "id": "ZdX16QnSfjAO"
      },
      "source": [
        "def Computer_Move(Arr, model):\n",
        "  Input = sum(Arr, [])\n",
        "  Possible_Inputs = []\n",
        "  for i in range(9):\n",
        "    Temp = Input.copy()\n",
        "    if(Input[i] == '0'):\n",
        "      Temp[i] = 'O'\n",
        "      Possible_Inputs.append(Temp)\n",
        "  for i in range(len(Possible_Inputs)):\n",
        "    for j in range(len(Possible_Inputs[0])):\n",
        "      if(Possible_Inputs[i][j] == 'X'):\n",
        "        Possible_Inputs[i][j] = -1\n",
        "      elif(Possible_Inputs[i][j] == 'O'):\n",
        "        Possible_Inputs[i][j] = 1\n",
        "      else:\n",
        "        Possible_Inputs[i][j] = 0\n",
        "  Prediction = model.predict(Possible_Inputs)\n",
        "  Position = np.argmax(Prediction)\n",
        "  Next = Possible_Inputs[Position]\n",
        "  Next_Outcome = []\n",
        "  for i in range(3):\n",
        "    Temp = []\n",
        "    for j in range(3):\n",
        "      if(Next[3*i + j] == 1):\n",
        "        Temp.append('O')\n",
        "      elif(Next[3*i + j] == -1):\n",
        "        Temp.append('X')\n",
        "      else:\n",
        "        Temp.append('0')\n",
        "    Next_Outcome.append(Temp)\n",
        "  return Next_Outcome"
      ],
      "execution_count": 12,
      "outputs": []
    },
    {
      "cell_type": "code",
      "metadata": {
        "id": "lKvVu_Qyhgj8"
      },
      "source": [
        "Next_Outcome = Computer_Move([['0', '0', 'O'], ['O', '0', 'O'], ['X', 'X', '0']], model_1)"
      ],
      "execution_count": null,
      "outputs": []
    },
    {
      "cell_type": "code",
      "metadata": {
        "id": "uF--A4kNiFzr",
        "outputId": "cff02a6e-3339-4772-92fd-9d1582aea0c1",
        "colab": {
          "base_uri": "https://localhost:8080/"
        }
      },
      "source": [
        "Next_Outcome"
      ],
      "execution_count": null,
      "outputs": [
        {
          "output_type": "execute_result",
          "data": {
            "text/plain": [
              "[['0', '0', 'O'], ['O', '0', 'O'], ['X', 'X', 'O']]"
            ]
          },
          "metadata": {
            "tags": []
          },
          "execution_count": 86
        }
      ]
    },
    {
      "cell_type": "code",
      "metadata": {
        "id": "XmG7Bk07lca7",
        "outputId": "affd8021-d1fb-48dc-8330-9ffb33cd91f5",
        "colab": {
          "base_uri": "https://localhost:8080/",
          "height": 757
        }
      },
      "source": [
        "Train_X = []\n",
        "Train_Y = []\n",
        "Arr = []\n",
        "for i in range(3):\n",
        "  Arr.append(['0', '0', '0'])\n",
        "i = 1\n",
        "Game_Over = False\n",
        "Display_Board(Arr,  0)\n",
        "while((Game_Over != True) and i < 9):\n",
        "  Arr = Computer_Move(Arr, model_1)\n",
        "  Train_X.append(sum(Arr, []))\n",
        "  Display_Board(Arr, i)\n",
        "  i = i + 1\n",
        "  Game_Over, Winner = Check_Win(Arr)\n",
        "  if(Game_Over == False):\n",
        "    Arr = Player_Move(Arr)\n",
        "    Game_Over, Winner = Check_Win(Arr)\n",
        "    Display_Board(Arr, i)\n",
        "    Train_X.append(sum(Arr, []))\n",
        "    i = i + 1\n",
        "if(Game_Over == False):\n",
        "  print(\"Draw\")\n",
        "elif(Game_Over == True):\n",
        "  print(Winner)\n",
        "\n",
        "for i in range(len(Train_X)):\n",
        "  for j in range(len(Train_X[i])):\n",
        "    if(Train_X[i][j] == '0'):\n",
        "      Train_X[i][j] = 0\n",
        "    elif(Train_X[i][j] == 'X'):\n",
        "      Train_X[i][j] = -1\n",
        "    else:\n",
        "      Train_X[i][j] = 1\n",
        "if(Winner == \"Draw\"):\n",
        "  for i in range(len(Train_X)):\n",
        "    Train_Y.append(0)\n",
        "elif(Winner == 'Human'):\n",
        "  for i in range(len(Train_X)):\n",
        "    Train_Y.append(0)\n",
        "else:\n",
        "  for i in range(len(Train_X)):\n",
        "    Train_Y.append(1)\n",
        "model.fit(Train_X, Train_Y, epochs = 2)"
      ],
      "execution_count": null,
      "outputs": [
        {
          "output_type": "stream",
          "text": [
            "Move No: 0\n",
            "\n",
            " # 0 | 0 | 0 #\n",
            "---------------\n",
            " # 0 | 0 | 0 #\n",
            "---------------\n",
            " # 0 | 0 | 0 #\n",
            "Move No: 1\n",
            "\n",
            " # 0 | 0 | O #\n",
            "---------------\n",
            " # 0 | 0 | 0 #\n",
            "---------------\n",
            " # 0 | 0 | 0 #\n"
          ],
          "name": "stdout"
        },
        {
          "output_type": "error",
          "ename": "KeyboardInterrupt",
          "evalue": "ignored",
          "traceback": [
            "\u001b[0;31m---------------------------------------------------------------------------\u001b[0m",
            "\u001b[0;31mKeyboardInterrupt\u001b[0m                         Traceback (most recent call last)",
            "\u001b[0;32m/usr/local/lib/python3.6/dist-packages/ipykernel/kernelbase.py\u001b[0m in \u001b[0;36m_input_request\u001b[0;34m(self, prompt, ident, parent, password)\u001b[0m\n\u001b[1;32m    728\u001b[0m             \u001b[0;32mtry\u001b[0m\u001b[0;34m:\u001b[0m\u001b[0;34m\u001b[0m\u001b[0;34m\u001b[0m\u001b[0m\n\u001b[0;32m--> 729\u001b[0;31m                 \u001b[0mident\u001b[0m\u001b[0;34m,\u001b[0m \u001b[0mreply\u001b[0m \u001b[0;34m=\u001b[0m \u001b[0mself\u001b[0m\u001b[0;34m.\u001b[0m\u001b[0msession\u001b[0m\u001b[0;34m.\u001b[0m\u001b[0mrecv\u001b[0m\u001b[0;34m(\u001b[0m\u001b[0mself\u001b[0m\u001b[0;34m.\u001b[0m\u001b[0mstdin_socket\u001b[0m\u001b[0;34m,\u001b[0m \u001b[0;36m0\u001b[0m\u001b[0;34m)\u001b[0m\u001b[0;34m\u001b[0m\u001b[0;34m\u001b[0m\u001b[0m\n\u001b[0m\u001b[1;32m    730\u001b[0m             \u001b[0;32mexcept\u001b[0m \u001b[0mException\u001b[0m\u001b[0;34m:\u001b[0m\u001b[0;34m\u001b[0m\u001b[0;34m\u001b[0m\u001b[0m\n",
            "\u001b[0;32m/usr/local/lib/python3.6/dist-packages/jupyter_client/session.py\u001b[0m in \u001b[0;36mrecv\u001b[0;34m(self, socket, mode, content, copy)\u001b[0m\n\u001b[1;32m    802\u001b[0m         \u001b[0;32mtry\u001b[0m\u001b[0;34m:\u001b[0m\u001b[0;34m\u001b[0m\u001b[0;34m\u001b[0m\u001b[0m\n\u001b[0;32m--> 803\u001b[0;31m             \u001b[0mmsg_list\u001b[0m \u001b[0;34m=\u001b[0m \u001b[0msocket\u001b[0m\u001b[0;34m.\u001b[0m\u001b[0mrecv_multipart\u001b[0m\u001b[0;34m(\u001b[0m\u001b[0mmode\u001b[0m\u001b[0;34m,\u001b[0m \u001b[0mcopy\u001b[0m\u001b[0;34m=\u001b[0m\u001b[0mcopy\u001b[0m\u001b[0;34m)\u001b[0m\u001b[0;34m\u001b[0m\u001b[0;34m\u001b[0m\u001b[0m\n\u001b[0m\u001b[1;32m    804\u001b[0m         \u001b[0;32mexcept\u001b[0m \u001b[0mzmq\u001b[0m\u001b[0;34m.\u001b[0m\u001b[0mZMQError\u001b[0m \u001b[0;32mas\u001b[0m \u001b[0me\u001b[0m\u001b[0;34m:\u001b[0m\u001b[0;34m\u001b[0m\u001b[0;34m\u001b[0m\u001b[0m\n",
            "\u001b[0;32m/usr/local/lib/python3.6/dist-packages/zmq/sugar/socket.py\u001b[0m in \u001b[0;36mrecv_multipart\u001b[0;34m(self, flags, copy, track)\u001b[0m\n\u001b[1;32m    490\u001b[0m         \"\"\"\n\u001b[0;32m--> 491\u001b[0;31m         \u001b[0mparts\u001b[0m \u001b[0;34m=\u001b[0m \u001b[0;34m[\u001b[0m\u001b[0mself\u001b[0m\u001b[0;34m.\u001b[0m\u001b[0mrecv\u001b[0m\u001b[0;34m(\u001b[0m\u001b[0mflags\u001b[0m\u001b[0;34m,\u001b[0m \u001b[0mcopy\u001b[0m\u001b[0;34m=\u001b[0m\u001b[0mcopy\u001b[0m\u001b[0;34m,\u001b[0m \u001b[0mtrack\u001b[0m\u001b[0;34m=\u001b[0m\u001b[0mtrack\u001b[0m\u001b[0;34m)\u001b[0m\u001b[0;34m]\u001b[0m\u001b[0;34m\u001b[0m\u001b[0;34m\u001b[0m\u001b[0m\n\u001b[0m\u001b[1;32m    492\u001b[0m         \u001b[0;31m# have first part already, only loop while more to receive\u001b[0m\u001b[0;34m\u001b[0m\u001b[0;34m\u001b[0m\u001b[0;34m\u001b[0m\u001b[0m\n",
            "\u001b[0;32mzmq/backend/cython/socket.pyx\u001b[0m in \u001b[0;36mzmq.backend.cython.socket.Socket.recv\u001b[0;34m()\u001b[0m\n",
            "\u001b[0;32mzmq/backend/cython/socket.pyx\u001b[0m in \u001b[0;36mzmq.backend.cython.socket.Socket.recv\u001b[0;34m()\u001b[0m\n",
            "\u001b[0;32mzmq/backend/cython/socket.pyx\u001b[0m in \u001b[0;36mzmq.backend.cython.socket._recv_copy\u001b[0;34m()\u001b[0m\n",
            "\u001b[0;32m/usr/local/lib/python3.6/dist-packages/zmq/backend/cython/checkrc.pxd\u001b[0m in \u001b[0;36mzmq.backend.cython.checkrc._check_rc\u001b[0;34m()\u001b[0m\n",
            "\u001b[0;31mKeyboardInterrupt\u001b[0m: ",
            "\nDuring handling of the above exception, another exception occurred:\n",
            "\u001b[0;31mKeyboardInterrupt\u001b[0m                         Traceback (most recent call last)",
            "\u001b[0;32m<ipython-input-91-b5ab9d64cdd7>\u001b[0m in \u001b[0;36m<module>\u001b[0;34m()\u001b[0m\n\u001b[1;32m     14\u001b[0m   \u001b[0mGame_Over\u001b[0m\u001b[0;34m,\u001b[0m \u001b[0mWinner\u001b[0m \u001b[0;34m=\u001b[0m \u001b[0mCheck_Win\u001b[0m\u001b[0;34m(\u001b[0m\u001b[0mArr\u001b[0m\u001b[0;34m)\u001b[0m\u001b[0;34m\u001b[0m\u001b[0;34m\u001b[0m\u001b[0m\n\u001b[1;32m     15\u001b[0m   \u001b[0;32mif\u001b[0m\u001b[0;34m(\u001b[0m\u001b[0mGame_Over\u001b[0m \u001b[0;34m==\u001b[0m \u001b[0;32mFalse\u001b[0m\u001b[0;34m)\u001b[0m\u001b[0;34m:\u001b[0m\u001b[0;34m\u001b[0m\u001b[0;34m\u001b[0m\u001b[0m\n\u001b[0;32m---> 16\u001b[0;31m     \u001b[0mArr\u001b[0m \u001b[0;34m=\u001b[0m \u001b[0mPlayer_Move\u001b[0m\u001b[0;34m(\u001b[0m\u001b[0mArr\u001b[0m\u001b[0;34m)\u001b[0m\u001b[0;34m\u001b[0m\u001b[0;34m\u001b[0m\u001b[0m\n\u001b[0m\u001b[1;32m     17\u001b[0m     \u001b[0mGame_Over\u001b[0m\u001b[0;34m,\u001b[0m \u001b[0mWinner\u001b[0m \u001b[0;34m=\u001b[0m \u001b[0mCheck_Win\u001b[0m\u001b[0;34m(\u001b[0m\u001b[0mArr\u001b[0m\u001b[0;34m)\u001b[0m\u001b[0;34m\u001b[0m\u001b[0;34m\u001b[0m\u001b[0m\n\u001b[1;32m     18\u001b[0m     \u001b[0mDisplay_Board\u001b[0m\u001b[0;34m(\u001b[0m\u001b[0mArr\u001b[0m\u001b[0;34m,\u001b[0m \u001b[0mi\u001b[0m\u001b[0;34m)\u001b[0m\u001b[0;34m\u001b[0m\u001b[0;34m\u001b[0m\u001b[0m\n",
            "\u001b[0;32m<ipython-input-11-3f4c2344fafa>\u001b[0m in \u001b[0;36mPlayer_Move\u001b[0;34m(Arr)\u001b[0m\n\u001b[1;32m      1\u001b[0m \u001b[0;32mdef\u001b[0m \u001b[0mPlayer_Move\u001b[0m\u001b[0;34m(\u001b[0m\u001b[0mArr\u001b[0m\u001b[0;34m)\u001b[0m\u001b[0;34m:\u001b[0m\u001b[0;34m\u001b[0m\u001b[0;34m\u001b[0m\u001b[0m\n\u001b[0;32m----> 2\u001b[0;31m   \u001b[0mX\u001b[0m\u001b[0;34m,\u001b[0m \u001b[0mY\u001b[0m \u001b[0;34m=\u001b[0m \u001b[0mlist\u001b[0m\u001b[0;34m(\u001b[0m\u001b[0mmap\u001b[0m\u001b[0;34m(\u001b[0m\u001b[0mint\u001b[0m\u001b[0;34m,\u001b[0m \u001b[0minput\u001b[0m\u001b[0;34m(\u001b[0m\u001b[0;34m)\u001b[0m\u001b[0;34m.\u001b[0m\u001b[0msplit\u001b[0m\u001b[0;34m(\u001b[0m\u001b[0;34m)\u001b[0m\u001b[0;34m)\u001b[0m\u001b[0;34m)\u001b[0m\u001b[0;34m\u001b[0m\u001b[0;34m\u001b[0m\u001b[0m\n\u001b[0m\u001b[1;32m      3\u001b[0m   \u001b[0mArr\u001b[0m\u001b[0;34m[\u001b[0m\u001b[0mX\u001b[0m\u001b[0;34m]\u001b[0m\u001b[0;34m[\u001b[0m\u001b[0mY\u001b[0m\u001b[0;34m]\u001b[0m \u001b[0;34m=\u001b[0m \u001b[0;34m'X'\u001b[0m\u001b[0;34m\u001b[0m\u001b[0;34m\u001b[0m\u001b[0m\n\u001b[1;32m      4\u001b[0m   \u001b[0;32mreturn\u001b[0m \u001b[0mArr\u001b[0m\u001b[0;34m\u001b[0m\u001b[0;34m\u001b[0m\u001b[0m\n",
            "\u001b[0;32m/usr/local/lib/python3.6/dist-packages/ipykernel/kernelbase.py\u001b[0m in \u001b[0;36mraw_input\u001b[0;34m(self, prompt)\u001b[0m\n\u001b[1;32m    702\u001b[0m             \u001b[0mself\u001b[0m\u001b[0;34m.\u001b[0m\u001b[0m_parent_ident\u001b[0m\u001b[0;34m,\u001b[0m\u001b[0;34m\u001b[0m\u001b[0;34m\u001b[0m\u001b[0m\n\u001b[1;32m    703\u001b[0m             \u001b[0mself\u001b[0m\u001b[0;34m.\u001b[0m\u001b[0m_parent_header\u001b[0m\u001b[0;34m,\u001b[0m\u001b[0;34m\u001b[0m\u001b[0;34m\u001b[0m\u001b[0m\n\u001b[0;32m--> 704\u001b[0;31m             \u001b[0mpassword\u001b[0m\u001b[0;34m=\u001b[0m\u001b[0;32mFalse\u001b[0m\u001b[0;34m,\u001b[0m\u001b[0;34m\u001b[0m\u001b[0;34m\u001b[0m\u001b[0m\n\u001b[0m\u001b[1;32m    705\u001b[0m         )\n\u001b[1;32m    706\u001b[0m \u001b[0;34m\u001b[0m\u001b[0m\n",
            "\u001b[0;32m/usr/local/lib/python3.6/dist-packages/ipykernel/kernelbase.py\u001b[0m in \u001b[0;36m_input_request\u001b[0;34m(self, prompt, ident, parent, password)\u001b[0m\n\u001b[1;32m    732\u001b[0m             \u001b[0;32mexcept\u001b[0m \u001b[0mKeyboardInterrupt\u001b[0m\u001b[0;34m:\u001b[0m\u001b[0;34m\u001b[0m\u001b[0;34m\u001b[0m\u001b[0m\n\u001b[1;32m    733\u001b[0m                 \u001b[0;31m# re-raise KeyboardInterrupt, to truncate traceback\u001b[0m\u001b[0;34m\u001b[0m\u001b[0;34m\u001b[0m\u001b[0;34m\u001b[0m\u001b[0m\n\u001b[0;32m--> 734\u001b[0;31m                 \u001b[0;32mraise\u001b[0m \u001b[0mKeyboardInterrupt\u001b[0m\u001b[0;34m\u001b[0m\u001b[0;34m\u001b[0m\u001b[0m\n\u001b[0m\u001b[1;32m    735\u001b[0m             \u001b[0;32melse\u001b[0m\u001b[0;34m:\u001b[0m\u001b[0;34m\u001b[0m\u001b[0;34m\u001b[0m\u001b[0m\n\u001b[1;32m    736\u001b[0m                 \u001b[0;32mbreak\u001b[0m\u001b[0;34m\u001b[0m\u001b[0;34m\u001b[0m\u001b[0m\n",
            "\u001b[0;31mKeyboardInterrupt\u001b[0m: "
          ]
        }
      ]
    },
    {
      "cell_type": "code",
      "metadata": {
        "id": "WJ84HC7dnk5t"
      },
      "source": [
        "def Training(model, epochs):\n",
        "  Win = 0\n",
        "  Lose = 0\n",
        "  Draw = 0\n",
        "  for i in range(epochs):\n",
        "    Train_X = []\n",
        "    Train_Y = []\n",
        "    Arr = []\n",
        "    for i in range(3):\n",
        "      Arr.append(['0', '0', '0'])\n",
        "    i = 1\n",
        "    Game_Over = False\n",
        "    while((Game_Over != True) and i < 9):\n",
        "      Arr = Computer_Move(Arr, model)\n",
        "      Train_X.append(sum(Arr, []))\n",
        "      i = i + 1\n",
        "      Game_Over, Winner = Check_Win(Arr)\n",
        "      if(Game_Over == False):\n",
        "        Arr = Training_Bot(Arr)\n",
        "        Game_Over, Winner = Check_Win(Arr)\n",
        "        Train_X.append(sum(Arr, []))\n",
        "        i = i + 1\n",
        "\n",
        "    for i in range(len(Train_X)):\n",
        "      for j in range(len(Train_X[i])):\n",
        "        if(Train_X[i][j] == '0'):\n",
        "          Train_X[i][j] = 0\n",
        "        elif(Train_X[i][j] == 'X'):\n",
        "          Train_X[i][j] = -1\n",
        "        else:\n",
        "          Train_X[i][j] = 1\n",
        "    if(Winner == \"Draw\"):\n",
        "      for i in range(len(Train_X)):\n",
        "        Train_Y.append(0)\n",
        "      Draw = Draw + 1\n",
        "    elif(Winner == 'Human'):\n",
        "      for i in range(len(Train_X)):\n",
        "        Train_Y.append(0)\n",
        "      Lose = Lose + 1\n",
        "    else:\n",
        "      for i in range(len(Train_X)):\n",
        "        Train_Y.append(1)\n",
        "      Win = Win + 1\n",
        "    model.fit(Train_X, Train_Y, epochs = 1)\n",
        "  return model, Win, Lose, Draw"
      ],
      "execution_count": 17,
      "outputs": []
    },
    {
      "cell_type": "code",
      "metadata": {
        "id": "QiD-8cuv9uKz",
        "outputId": "29fc0e50-1287-42cd-88fe-fc8b7da80029",
        "colab": {
          "base_uri": "https://localhost:8080/"
        }
      },
      "source": [
        "model, Win, Lose, Draw = Training(model, 100)"
      ],
      "execution_count": 20,
      "outputs": [
        {
          "output_type": "stream",
          "text": [
            "1/1 [==============================] - 0s 2ms/step - loss: 0.0962 - accuracy: 1.0000 - mean_squared_error: 0.0962\n",
            "1/1 [==============================] - 0s 2ms/step - loss: 0.1069 - accuracy: 1.0000 - mean_squared_error: 0.1069\n",
            "1/1 [==============================] - 0s 2ms/step - loss: 0.0656 - accuracy: 1.0000 - mean_squared_error: 0.0656\n",
            "1/1 [==============================] - 0s 2ms/step - loss: 0.1281 - accuracy: 1.0000 - mean_squared_error: 0.1281\n",
            "1/1 [==============================] - 0s 1ms/step - loss: 0.1387 - accuracy: 1.0000 - mean_squared_error: 0.1387\n",
            "1/1 [==============================] - 0s 2ms/step - loss: 0.1452 - accuracy: 1.0000 - mean_squared_error: 0.1452\n",
            "1/1 [==============================] - 0s 2ms/step - loss: 0.1291 - accuracy: 1.0000 - mean_squared_error: 0.1291\n",
            "1/1 [==============================] - 0s 2ms/step - loss: 0.1237 - accuracy: 1.0000 - mean_squared_error: 0.1237\n",
            "1/1 [==============================] - 0s 2ms/step - loss: 0.1180 - accuracy: 1.0000 - mean_squared_error: 0.1180\n",
            "1/1 [==============================] - 0s 1ms/step - loss: 0.0843 - accuracy: 1.0000 - mean_squared_error: 0.0843\n",
            "1/1 [==============================] - 0s 2ms/step - loss: 0.1316 - accuracy: 1.0000 - mean_squared_error: 0.1316\n",
            "1/1 [==============================] - 0s 2ms/step - loss: 0.0956 - accuracy: 1.0000 - mean_squared_error: 0.0956\n",
            "1/1 [==============================] - 0s 1ms/step - loss: 0.0984 - accuracy: 1.0000 - mean_squared_error: 0.0984\n",
            "1/1 [==============================] - 0s 1ms/step - loss: 0.1197 - accuracy: 1.0000 - mean_squared_error: 0.1197\n",
            "1/1 [==============================] - 0s 1ms/step - loss: 0.1640 - accuracy: 1.0000 - mean_squared_error: 0.1640\n",
            "1/1 [==============================] - 0s 1ms/step - loss: 0.1368 - accuracy: 1.0000 - mean_squared_error: 0.1368\n",
            "1/1 [==============================] - 0s 2ms/step - loss: 0.1100 - accuracy: 1.0000 - mean_squared_error: 0.1100\n",
            "1/1 [==============================] - 0s 2ms/step - loss: 0.1592 - accuracy: 1.0000 - mean_squared_error: 0.1592\n",
            "1/1 [==============================] - 0s 1ms/step - loss: 0.1266 - accuracy: 1.0000 - mean_squared_error: 0.1266\n",
            "1/1 [==============================] - 0s 1ms/step - loss: 0.1080 - accuracy: 1.0000 - mean_squared_error: 0.1080\n",
            "1/1 [==============================] - 0s 2ms/step - loss: 0.1089 - accuracy: 1.0000 - mean_squared_error: 0.1089\n",
            "1/1 [==============================] - 0s 2ms/step - loss: 0.1245 - accuracy: 1.0000 - mean_squared_error: 0.1245\n",
            "1/1 [==============================] - 0s 1ms/step - loss: 0.1632 - accuracy: 1.0000 - mean_squared_error: 0.1632\n",
            "1/1 [==============================] - 0s 1ms/step - loss: 0.1215 - accuracy: 1.0000 - mean_squared_error: 0.1215\n",
            "1/1 [==============================] - 0s 2ms/step - loss: 0.0714 - accuracy: 1.0000 - mean_squared_error: 0.0714\n",
            "1/1 [==============================] - 0s 2ms/step - loss: 0.0974 - accuracy: 1.0000 - mean_squared_error: 0.0974\n",
            "1/1 [==============================] - 0s 2ms/step - loss: 0.1024 - accuracy: 1.0000 - mean_squared_error: 0.1024\n",
            "1/1 [==============================] - 0s 1ms/step - loss: 0.0799 - accuracy: 1.0000 - mean_squared_error: 0.0799\n",
            "1/1 [==============================] - 0s 1ms/step - loss: 0.1176 - accuracy: 1.0000 - mean_squared_error: 0.1176\n",
            "1/1 [==============================] - 0s 1ms/step - loss: 0.1250 - accuracy: 1.0000 - mean_squared_error: 0.1250\n",
            "1/1 [==============================] - 0s 2ms/step - loss: 0.1004 - accuracy: 1.0000 - mean_squared_error: 0.1004\n",
            "1/1 [==============================] - 0s 1ms/step - loss: 0.1191 - accuracy: 1.0000 - mean_squared_error: 0.1191\n",
            "1/1 [==============================] - 0s 2ms/step - loss: 0.1376 - accuracy: 1.0000 - mean_squared_error: 0.1376\n",
            "1/1 [==============================] - 0s 1ms/step - loss: 0.1265 - accuracy: 1.0000 - mean_squared_error: 0.1265\n",
            "1/1 [==============================] - 0s 2ms/step - loss: 0.0577 - accuracy: 1.0000 - mean_squared_error: 0.0577\n",
            "1/1 [==============================] - 0s 1ms/step - loss: 0.0706 - accuracy: 1.0000 - mean_squared_error: 0.0706\n",
            "1/1 [==============================] - 0s 2ms/step - loss: 0.1091 - accuracy: 1.0000 - mean_squared_error: 0.1091\n",
            "1/1 [==============================] - 0s 1ms/step - loss: 0.1076 - accuracy: 1.0000 - mean_squared_error: 0.1076\n",
            "1/1 [==============================] - 0s 2ms/step - loss: 0.1271 - accuracy: 1.0000 - mean_squared_error: 0.1271\n",
            "1/1 [==============================] - 0s 2ms/step - loss: 0.1224 - accuracy: 1.0000 - mean_squared_error: 0.1224\n",
            "1/1 [==============================] - 0s 2ms/step - loss: 0.1337 - accuracy: 1.0000 - mean_squared_error: 0.1337\n",
            "1/1 [==============================] - 0s 2ms/step - loss: 0.0942 - accuracy: 1.0000 - mean_squared_error: 0.0942\n",
            "1/1 [==============================] - 0s 1ms/step - loss: 0.1140 - accuracy: 1.0000 - mean_squared_error: 0.1140\n",
            "1/1 [==============================] - 0s 2ms/step - loss: 0.1411 - accuracy: 1.0000 - mean_squared_error: 0.1411\n",
            "1/1 [==============================] - 0s 2ms/step - loss: 0.1447 - accuracy: 1.0000 - mean_squared_error: 0.1447\n",
            "1/1 [==============================] - 0s 2ms/step - loss: 0.0989 - accuracy: 1.0000 - mean_squared_error: 0.0989\n",
            "1/1 [==============================] - 0s 2ms/step - loss: 0.1217 - accuracy: 1.0000 - mean_squared_error: 0.1217\n",
            "1/1 [==============================] - 0s 1ms/step - loss: 0.1023 - accuracy: 1.0000 - mean_squared_error: 0.1023\n",
            "1/1 [==============================] - 0s 1ms/step - loss: 0.1100 - accuracy: 1.0000 - mean_squared_error: 0.1100\n",
            "1/1 [==============================] - 0s 2ms/step - loss: 0.1157 - accuracy: 1.0000 - mean_squared_error: 0.1157\n",
            "1/1 [==============================] - 0s 2ms/step - loss: 0.0988 - accuracy: 1.0000 - mean_squared_error: 0.0988\n",
            "1/1 [==============================] - 0s 2ms/step - loss: 0.0769 - accuracy: 1.0000 - mean_squared_error: 0.0769\n",
            "1/1 [==============================] - 0s 1ms/step - loss: 0.1189 - accuracy: 1.0000 - mean_squared_error: 0.1189\n",
            "1/1 [==============================] - 0s 1ms/step - loss: 0.1058 - accuracy: 1.0000 - mean_squared_error: 0.1058\n",
            "1/1 [==============================] - 0s 1ms/step - loss: 0.0988 - accuracy: 1.0000 - mean_squared_error: 0.0988\n",
            "1/1 [==============================] - 0s 2ms/step - loss: 0.1419 - accuracy: 1.0000 - mean_squared_error: 0.1419\n",
            "1/1 [==============================] - 0s 1ms/step - loss: 0.0800 - accuracy: 1.0000 - mean_squared_error: 0.0800\n",
            "1/1 [==============================] - 0s 1ms/step - loss: 0.1316 - accuracy: 1.0000 - mean_squared_error: 0.1316\n",
            "1/1 [==============================] - 0s 2ms/step - loss: 0.1206 - accuracy: 1.0000 - mean_squared_error: 0.1206\n",
            "1/1 [==============================] - 0s 2ms/step - loss: 0.1453 - accuracy: 1.0000 - mean_squared_error: 0.1453\n",
            "1/1 [==============================] - 0s 1ms/step - loss: 0.1295 - accuracy: 1.0000 - mean_squared_error: 0.1295\n",
            "1/1 [==============================] - 0s 2ms/step - loss: 0.0779 - accuracy: 1.0000 - mean_squared_error: 0.0779\n",
            "1/1 [==============================] - 0s 1ms/step - loss: 0.1448 - accuracy: 1.0000 - mean_squared_error: 0.1448\n",
            "1/1 [==============================] - 0s 2ms/step - loss: 0.1166 - accuracy: 1.0000 - mean_squared_error: 0.1166\n",
            "1/1 [==============================] - 0s 1ms/step - loss: 0.1101 - accuracy: 1.0000 - mean_squared_error: 0.1101\n",
            "1/1 [==============================] - 0s 1ms/step - loss: 0.0611 - accuracy: 1.0000 - mean_squared_error: 0.0611\n",
            "1/1 [==============================] - 0s 1ms/step - loss: 0.0976 - accuracy: 1.0000 - mean_squared_error: 0.0976\n",
            "1/1 [==============================] - 0s 1ms/step - loss: 0.0899 - accuracy: 1.0000 - mean_squared_error: 0.0899\n",
            "1/1 [==============================] - 0s 2ms/step - loss: 0.1177 - accuracy: 1.0000 - mean_squared_error: 0.1177\n",
            "1/1 [==============================] - 0s 1ms/step - loss: 0.1077 - accuracy: 1.0000 - mean_squared_error: 0.1077\n",
            "1/1 [==============================] - 0s 2ms/step - loss: 0.1573 - accuracy: 1.0000 - mean_squared_error: 0.1573\n",
            "1/1 [==============================] - 0s 2ms/step - loss: 0.0765 - accuracy: 1.0000 - mean_squared_error: 0.0765\n",
            "1/1 [==============================] - 0s 1ms/step - loss: 0.1090 - accuracy: 1.0000 - mean_squared_error: 0.1090\n",
            "1/1 [==============================] - 0s 2ms/step - loss: 0.1304 - accuracy: 1.0000 - mean_squared_error: 0.1304\n",
            "1/1 [==============================] - 0s 1ms/step - loss: 0.0544 - accuracy: 1.0000 - mean_squared_error: 0.0544\n",
            "1/1 [==============================] - 0s 2ms/step - loss: 0.1340 - accuracy: 1.0000 - mean_squared_error: 0.1340\n",
            "1/1 [==============================] - 0s 1ms/step - loss: 0.0711 - accuracy: 1.0000 - mean_squared_error: 0.0711\n",
            "1/1 [==============================] - 0s 2ms/step - loss: 0.1168 - accuracy: 1.0000 - mean_squared_error: 0.1168\n",
            "1/1 [==============================] - 0s 2ms/step - loss: 0.1163 - accuracy: 1.0000 - mean_squared_error: 0.1163\n",
            "1/1 [==============================] - 0s 2ms/step - loss: 0.1187 - accuracy: 1.0000 - mean_squared_error: 0.1187\n",
            "1/1 [==============================] - 0s 1ms/step - loss: 0.1397 - accuracy: 1.0000 - mean_squared_error: 0.1397\n",
            "1/1 [==============================] - 0s 2ms/step - loss: 0.1030 - accuracy: 1.0000 - mean_squared_error: 0.1030\n",
            "1/1 [==============================] - 0s 3ms/step - loss: 0.0905 - accuracy: 1.0000 - mean_squared_error: 0.0905\n",
            "1/1 [==============================] - 0s 2ms/step - loss: 0.0891 - accuracy: 1.0000 - mean_squared_error: 0.0891\n",
            "1/1 [==============================] - 0s 2ms/step - loss: 0.1147 - accuracy: 1.0000 - mean_squared_error: 0.1147\n",
            "1/1 [==============================] - 0s 2ms/step - loss: 0.1179 - accuracy: 1.0000 - mean_squared_error: 0.1179\n",
            "1/1 [==============================] - 0s 2ms/step - loss: 0.1613 - accuracy: 1.0000 - mean_squared_error: 0.1613\n",
            "1/1 [==============================] - 0s 1ms/step - loss: 0.1345 - accuracy: 1.0000 - mean_squared_error: 0.1345\n",
            "1/1 [==============================] - 0s 2ms/step - loss: 0.0636 - accuracy: 1.0000 - mean_squared_error: 0.0636\n",
            "1/1 [==============================] - 0s 1ms/step - loss: 0.1283 - accuracy: 1.0000 - mean_squared_error: 0.1283\n",
            "1/1 [==============================] - 0s 3ms/step - loss: 0.1225 - accuracy: 1.0000 - mean_squared_error: 0.1225\n",
            "1/1 [==============================] - 0s 2ms/step - loss: 0.1230 - accuracy: 1.0000 - mean_squared_error: 0.1230\n",
            "1/1 [==============================] - 0s 1ms/step - loss: 0.1333 - accuracy: 1.0000 - mean_squared_error: 0.1333\n",
            "1/1 [==============================] - 0s 1ms/step - loss: 0.1129 - accuracy: 1.0000 - mean_squared_error: 0.1129\n",
            "1/1 [==============================] - 0s 1ms/step - loss: 0.1267 - accuracy: 1.0000 - mean_squared_error: 0.1267\n",
            "1/1 [==============================] - 0s 1ms/step - loss: 0.1125 - accuracy: 1.0000 - mean_squared_error: 0.1125\n",
            "1/1 [==============================] - 0s 2ms/step - loss: 0.0708 - accuracy: 1.0000 - mean_squared_error: 0.0708\n",
            "1/1 [==============================] - 0s 1ms/step - loss: 0.1305 - accuracy: 1.0000 - mean_squared_error: 0.1305\n",
            "1/1 [==============================] - 0s 2ms/step - loss: 0.1314 - accuracy: 1.0000 - mean_squared_error: 0.1314\n",
            "1/1 [==============================] - 0s 2ms/step - loss: 0.1251 - accuracy: 1.0000 - mean_squared_error: 0.1251\n"
          ],
          "name": "stdout"
        }
      ]
    },
    {
      "cell_type": "code",
      "metadata": {
        "id": "I7mp7PgEFakG",
        "outputId": "374af941-a9d8-4bd7-c539-e471af6c0afa",
        "colab": {
          "base_uri": "https://localhost:8080/"
        }
      },
      "source": [
        "print(Win, Lose, Draw)"
      ],
      "execution_count": 21,
      "outputs": [
        {
          "output_type": "stream",
          "text": [
            "100 0 0\n"
          ],
          "name": "stdout"
        }
      ]
    },
    {
      "cell_type": "code",
      "metadata": {
        "id": "sRgLgKJDFtVB"
      },
      "source": [
        ""
      ],
      "execution_count": null,
      "outputs": []
    }
  ]
}