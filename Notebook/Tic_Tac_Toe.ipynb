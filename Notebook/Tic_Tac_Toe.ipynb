{
  "nbformat": 4,
  "nbformat_minor": 0,
  "metadata": {
    "colab": {
      "name": "Tic_Tac_Toe.ipynb",
      "provenance": []
    },
    "kernelspec": {
      "name": "python3",
      "display_name": "Python 3"
    }
  },
  "cells": [
    {
      "cell_type": "code",
      "metadata": {
        "id": "mMu4LnR31-Q8"
      },
      "source": [
        "def Display_Board(Arr, i):\n",
        "  print(\"Move No: \" + str(i))\n",
        "  print()\n",
        "  print(\" #\", Arr[0][0], \"|\", Arr[0][1], \"|\", Arr[0][2], \"#\")\n",
        "  print(\"---------------\")\n",
        "  print(\" #\", Arr[1][0], \"|\", Arr[1][1], \"|\", Arr[1][2], \"#\")\n",
        "  print(\"---------------\")\n",
        "  print(\" #\", Arr[2][0], \"|\", Arr[2][1], \"|\", Arr[2][2], \"#\")"
      ],
      "execution_count": 1,
      "outputs": []
    },
    {
      "cell_type": "code",
      "metadata": {
        "id": "VjtldEAy2qVF",
        "outputId": "acef6e31-6e59-4e0d-ad0a-deb436a7738c",
        "colab": {
          "base_uri": "https://localhost:8080/"
        }
      },
      "source": [
        "Arr = []\n",
        "for i in range(3):\n",
        "  Arr.append(['0', '0', '0'])\n",
        "Display_Board(Arr, 0)"
      ],
      "execution_count": 7,
      "outputs": [
        {
          "output_type": "stream",
          "text": [
            "Move No: 0\n",
            "\n",
            " # 0 | 0 | 0 #\n",
            "---------------\n",
            " # 0 | 0 | 0 #\n",
            "---------------\n",
            " # 0 | 0 | 0 #\n"
          ],
          "name": "stdout"
        }
      ]
    },
    {
      "cell_type": "code",
      "metadata": {
        "id": "kyGfKPQ4r2-m"
      },
      "source": [
        "def Toss():\n",
        "  Number = random.randint(1, 2)\n",
        "  if(Number == 1):\n",
        "    return \"Computer\"\n",
        "  else:\n",
        "    return \"Human\""
      ],
      "execution_count": 86,
      "outputs": []
    },
    {
      "cell_type": "code",
      "metadata": {
        "id": "jtfv0yCP4nag"
      },
      "source": [
        "def Row_Check(A):\n",
        "  Winner = \"No Body\"\n",
        "  for i in range(3):\n",
        "    if((A[i][0] == A[i][1]) and (A[i][0] == A[i][2])):\n",
        "      if(A[i][0] == 'X'):\n",
        "        Winner = \"Human\"\n",
        "        return True, Winner\n",
        "      elif(A[i][0] == 'O'):\n",
        "        Winner = \"Computer\"\n",
        "        return True, Winner\n",
        "  return False, Winner"
      ],
      "execution_count": 2,
      "outputs": []
    },
    {
      "cell_type": "code",
      "metadata": {
        "id": "w3P8Gq6V5oLn"
      },
      "source": [
        "def Column_Check(A):\n",
        "  Winner = \"No Body\"\n",
        "  for i in range(3):\n",
        "    if((A[0][i] == A[1][i]) and (A[0][i] == A[2][i])):\n",
        "      if(A[0][i] == 'X'):\n",
        "        Winner = \"Human\"\n",
        "        return True, Winner\n",
        "      elif(A[0][i] == 'O'):\n",
        "        Winner = \"Computer\"\n",
        "        return True, Winner\n",
        "  return False, Winner"
      ],
      "execution_count": 3,
      "outputs": []
    },
    {
      "cell_type": "code",
      "metadata": {
        "id": "Z7VAB5Gm57R-"
      },
      "source": [
        "def Digonal_Check(A):\n",
        "  Winner = \"No Body\"\n",
        "  if((A[0][0] == A[1][1]) and (A[0][0] == A[2][2])):\n",
        "    if(A[0][0] == 'X'):\n",
        "      Winner = \"Human\"\n",
        "      return True, Winner\n",
        "    elif(A[0][0] == 'O'):\n",
        "      Winner = \"Computer\"\n",
        "      return True, Winner\n",
        "  elif((A[0][2] == A[1][1]) and (A[0][2] == A[2][0])):\n",
        "    if(A[0][2] == 'X'):\n",
        "      Winner = \"Human\"\n",
        "      return True, Winner\n",
        "    elif(A[0][2] == 'O'):\n",
        "      Winner = \"Computer\"\n",
        "      return True, Winner\n",
        "  return False, Winner"
      ],
      "execution_count": 4,
      "outputs": []
    },
    {
      "cell_type": "code",
      "metadata": {
        "id": "mw-REqan3PXw"
      },
      "source": [
        "def Check_Win(Arr):\n",
        "  Game_Over = False\n",
        "  Winner = \"No Body\"\n",
        "  Game_Over_1, Winner_1 = Row_Check(Arr)\n",
        "  Game_Over_2, Winner_2 = Column_Check(Arr)\n",
        "  Game_Over_3, Winner_3 = Digonal_Check(Arr)\n",
        "  if(Game_Over_1 or Game_Over_2 or Game_Over_3):\n",
        "    Game_Over = True\n",
        "    if(Game_Over_1):\n",
        "      Winner = Winner_1\n",
        "    elif(Game_Over_2):\n",
        "      Winner = Winner_2\n",
        "    else:\n",
        "      Winner = Winner_3\n",
        "  return Game_Over, Winner"
      ],
      "execution_count": 5,
      "outputs": []
    },
    {
      "cell_type": "code",
      "metadata": {
        "id": "DW1gU1Rj6lAz",
        "outputId": "7ba26009-fafc-4f06-a4f2-834ee72d50bb",
        "colab": {
          "base_uri": "https://localhost:8080/"
        }
      },
      "source": [
        "Game_Over, Winner = Check_Win(Arr)\n",
        "print(Game_Over, Winner)"
      ],
      "execution_count": 8,
      "outputs": [
        {
          "output_type": "stream",
          "text": [
            "False No Body\n"
          ],
          "name": "stdout"
        }
      ]
    },
    {
      "cell_type": "code",
      "metadata": {
        "id": "EsJaE9pB7n8u"
      },
      "source": [
        "import random\n",
        "def Computer_Move(Arr):\n",
        "  X = random.randint(0, 2)\n",
        "  Y = random.randint(0, 2)\n",
        "  while(Arr[X][Y] != '0'):\n",
        "    X = random.randint(0, 2)\n",
        "    Y = random.randint(0, 2)\n",
        "  Arr[X][Y] = 'O'\n",
        "  return Arr"
      ],
      "execution_count": 84,
      "outputs": []
    },
    {
      "cell_type": "code",
      "metadata": {
        "id": "6RL5U-OB9-p4"
      },
      "source": [
        "def Player_Move(Arr):\n",
        "  X, Y = list(map(int, input().split()))\n",
        "  Arr[X][Y] = 'X'\n",
        "  return Arr"
      ],
      "execution_count": 10,
      "outputs": []
    },
    {
      "cell_type": "code",
      "metadata": {
        "id": "RvIG9q1j-cvp",
        "outputId": "2fce141d-199b-4969-8373-cb460414605a",
        "colab": {
          "base_uri": "https://localhost:8080/"
        }
      },
      "source": [
        "import tensorflow as tf\n",
        "print(tf.__version__)"
      ],
      "execution_count": 14,
      "outputs": [
        {
          "output_type": "stream",
          "text": [
            "2.3.0\n"
          ],
          "name": "stdout"
        }
      ]
    },
    {
      "cell_type": "code",
      "metadata": {
        "id": "LaPsQWGmHqJ0"
      },
      "source": [
        "model = tf.keras.models.Sequential([\n",
        "                                    tf.keras.layers.Dense(9, input_shape = [9], activation = 'relu', name = \"Layer_1\"),\n",
        "                                    tf.keras.layers.Dense(1, activation = 'softmax')\n",
        "])\n",
        "model.compile(optimizer = 'adam', loss = 'mse', metrics = ['accuracy', 'mse'])"
      ],
      "execution_count": 12,
      "outputs": []
    },
    {
      "cell_type": "code",
      "metadata": {
        "id": "W7Ic25AO9Jc4",
        "outputId": "a05f0d54-34e4-42b3-c797-de341d1578f0",
        "colab": {
          "base_uri": "https://localhost:8080/"
        }
      },
      "source": [
        "Train_X = []\n",
        "Train_Y = []\n",
        "Arr = []\n",
        "for i in range(3):\n",
        "  Arr.append(['0', '0', '0'])\n",
        "i = 1\n",
        "Game_Over = False\n",
        "Display_Board(Arr,  0)\n",
        "while((Game_Over != True) and i <= 9):\n",
        "  Arr = Computer_Move(Arr)\n",
        "  Train_X.append(sum(Arr, []))\n",
        "  Display_Board(Arr, i)\n",
        "  i = i + 1\n",
        "  Game_Over, Winner = Check_Win(Arr)\n",
        "  if(Game_Over == False):\n",
        "    Arr = Player_Move(Arr)\n",
        "    Game_Over, Winner = Check_Win(Arr)\n",
        "    Display_Board(Arr, i)\n",
        "    Train_X.append(sum(Arr, []))\n",
        "    i = i + 1\n",
        "if(Game_Over == False):\n",
        "  print(Draw)\n",
        "  for j in range(i):\n",
        "    Train_Y.append(0)\n",
        "elif(Game_Over == True):\n",
        "  print(Winner)\n",
        "  for j in range(i - 1):\n",
        "    if(Winner == 'Human'):\n",
        "      Train_Y.append(-1)\n",
        "    else:\n",
        "      Train_Y.append(1)"
      ],
      "execution_count": null,
      "outputs": [
        {
          "output_type": "stream",
          "text": [
            "Move No: 0\n",
            "\n",
            " # 0 | 0 | 0 #\n",
            "---------------\n",
            " # 0 | 0 | 0 #\n",
            "---------------\n",
            " # 0 | 0 | 0 #\n",
            "Move No: 1\n",
            "\n",
            " # 0 | 0 | 0 #\n",
            "---------------\n",
            " # 0 | 0 | 0 #\n",
            "---------------\n",
            " # 0 | O | 0 #\n",
            "2 2\n",
            "Move No: 2\n",
            "\n",
            " # 0 | 0 | 0 #\n",
            "---------------\n",
            " # 0 | 0 | 0 #\n",
            "---------------\n",
            " # 0 | O | X #\n",
            "Move No: 3\n",
            "\n",
            " # 0 | 0 | 0 #\n",
            "---------------\n",
            " # 0 | O | 0 #\n",
            "---------------\n",
            " # 0 | O | X #\n",
            "1 2\n",
            "Move No: 4\n",
            "\n",
            " # 0 | 0 | 0 #\n",
            "---------------\n",
            " # 0 | O | X #\n",
            "---------------\n",
            " # 0 | O | X #\n",
            "Move No: 5\n",
            "\n",
            " # 0 | 0 | O #\n",
            "---------------\n",
            " # 0 | O | X #\n",
            "---------------\n",
            " # 0 | O | X #\n",
            "2 0\n",
            "Move No: 6\n",
            "\n",
            " # 0 | 0 | O #\n",
            "---------------\n",
            " # 0 | O | X #\n",
            "---------------\n",
            " # X | O | X #\n",
            "Move No: 7\n",
            "\n",
            " # 0 | O | O #\n",
            "---------------\n",
            " # 0 | O | X #\n",
            "---------------\n",
            " # X | O | X #\n",
            "Computer\n"
          ],
          "name": "stdout"
        }
      ]
    },
    {
      "cell_type": "code",
      "metadata": {
        "id": "QqUcGwLmK2lR",
        "outputId": "ea7f6618-d2b3-4af6-c240-1989f961e3b5",
        "colab": {
          "base_uri": "https://localhost:8080/"
        }
      },
      "source": [
        "for i in range(len(Train_X)):\n",
        "  for j in range(len(Train_X[i])):\n",
        "    if(Train_X[i][j] == '0'):\n",
        "      Train_X[i][j] = 0\n",
        "    elif(Train_X[i][j] == 'X'):\n",
        "      Train_X[i][j] = -1\n",
        "    else:\n",
        "      Train_X[i][j] = 1\n",
        "Train_X"
      ],
      "execution_count": null,
      "outputs": [
        {
          "output_type": "execute_result",
          "data": {
            "text/plain": [
              "[[0, 0, 0, 0, 0, 0, 0, 1, 0],\n",
              " [0, 0, 0, 0, 0, 0, 0, 1, -1],\n",
              " [0, 0, 0, 0, 1, 0, 0, 1, -1],\n",
              " [0, 0, 0, 0, 1, -1, 0, 1, -1],\n",
              " [0, 0, 1, 0, 1, -1, 0, 1, -1],\n",
              " [0, 0, 1, 0, 1, -1, -1, 1, -1],\n",
              " [0, 1, 1, 0, 1, -1, -1, 1, -1]]"
            ]
          },
          "metadata": {
            "tags": []
          },
          "execution_count": 131
        }
      ]
    },
    {
      "cell_type": "code",
      "metadata": {
        "id": "CQHs5KbELV7S",
        "outputId": "d08022d9-d4b6-4fe2-ab8b-ae97cc3aef69",
        "colab": {
          "base_uri": "https://localhost:8080/"
        }
      },
      "source": [
        "Train_Y"
      ],
      "execution_count": null,
      "outputs": [
        {
          "output_type": "execute_result",
          "data": {
            "text/plain": [
              "[1, 1, 1, 1, 1, 1, 1]"
            ]
          },
          "metadata": {
            "tags": []
          },
          "execution_count": 132
        }
      ]
    },
    {
      "cell_type": "code",
      "metadata": {
        "id": "HOx8oOE6LYgj",
        "outputId": "acef18e8-31bb-419c-a834-514c1da1ff64",
        "colab": {
          "base_uri": "https://localhost:8080/"
        }
      },
      "source": [
        "model.fit(Train_X, Train_Y, epochs = 2)"
      ],
      "execution_count": null,
      "outputs": [
        {
          "output_type": "stream",
          "text": [
            "Epoch 1/2\n",
            "WARNING:tensorflow:5 out of the last 9 calls to <function Model.make_train_function.<locals>.train_function at 0x7f3e3f930b70> triggered tf.function retracing. Tracing is expensive and the excessive number of tracings could be due to (1) creating @tf.function repeatedly in a loop, (2) passing tensors with different shapes, (3) passing Python objects instead of tensors. For (1), please define your @tf.function outside of the loop. For (2), @tf.function has experimental_relax_shapes=True option that relaxes argument shapes that can avoid unnecessary retracing. For (3), please refer to https://www.tensorflow.org/tutorials/customization/performance#python_or_tensor_args and https://www.tensorflow.org/api_docs/python/tf/function for  more details.\n",
            "1/1 [==============================] - 0s 3ms/step - loss: 0.0000e+00 - accuracy: 1.0000 - mse: 0.0000e+00\n",
            "Epoch 2/2\n",
            "1/1 [==============================] - 0s 1ms/step - loss: 0.0000e+00 - accuracy: 1.0000 - mse: 0.0000e+00\n"
          ],
          "name": "stdout"
        },
        {
          "output_type": "execute_result",
          "data": {
            "text/plain": [
              "<tensorflow.python.keras.callbacks.History at 0x7f3e3f0de518>"
            ]
          },
          "metadata": {
            "tags": []
          },
          "execution_count": 133
        }
      ]
    },
    {
      "cell_type": "code",
      "metadata": {
        "id": "YDgt-A2SMaky"
      },
      "source": [
        "Weights = model.layers[0].get_weights()"
      ],
      "execution_count": null,
      "outputs": []
    },
    {
      "cell_type": "code",
      "metadata": {
        "id": "reh3C3MPN_ih",
        "outputId": "e21b1309-be89-4e31-b93e-5645952617e1",
        "colab": {
          "base_uri": "https://localhost:8080/"
        }
      },
      "source": [
        "Weights"
      ],
      "execution_count": null,
      "outputs": [
        {
          "output_type": "execute_result",
          "data": {
            "text/plain": [
              "[array([[-0.08324626,  0.26803643, -0.43723637,  0.05652064,  0.30163497,\n",
              "         -0.35748273, -0.5170228 , -0.26723364,  0.36699253],\n",
              "        [ 0.13872361, -0.2696314 , -0.05005473, -0.24906659, -0.22170281,\n",
              "         -0.11982909, -0.45797625,  0.5357492 , -0.10365286],\n",
              "        [-0.44256952,  0.5336232 ,  0.04776531, -0.3345731 , -0.46470326,\n",
              "          0.42481267,  0.45187438,  0.00298536, -0.22374308],\n",
              "        [ 0.15094107, -0.06791842, -0.4401909 ,  0.5649985 ,  0.26897615,\n",
              "         -0.5333973 , -0.08717564,  0.5537528 ,  0.3558004 ],\n",
              "        [ 0.40586996,  0.427096  ,  0.16764987, -0.3531915 ,  0.23370844,\n",
              "          0.16845238, -0.01224244,  0.08065921, -0.2770351 ],\n",
              "        [-0.02629793,  0.21671927, -0.5567778 ,  0.3116389 ,  0.11487502,\n",
              "          0.39335805, -0.37860847,  0.1451428 ,  0.06146669],\n",
              "        [-0.55375755, -0.17853352, -0.42054632,  0.33050716,  0.05432427,\n",
              "         -0.31617105, -0.34356374, -0.00135547,  0.40560198],\n",
              "        [ 0.4417429 ,  0.4667703 ,  0.22772282, -0.41940123,  0.24375147,\n",
              "         -0.08068663,  0.42793393, -0.5737047 ,  0.20798564],\n",
              "        [-0.06405729,  0.47765958,  0.30750453, -0.31779948, -0.2488567 ,\n",
              "         -0.30933133, -0.11709133, -0.20298228, -0.0124281 ]],\n",
              "       dtype=float32),\n",
              " array([0., 0., 0., 0., 0., 0., 0., 0., 0.], dtype=float32)]"
            ]
          },
          "metadata": {
            "tags": []
          },
          "execution_count": 135
        }
      ]
    },
    {
      "cell_type": "code",
      "metadata": {
        "id": "L23UV-X6QW6h"
      },
      "source": [
        "import numpy as np\n",
        "Weights = np.array(Weights[0])"
      ],
      "execution_count": null,
      "outputs": []
    },
    {
      "cell_type": "code",
      "metadata": {
        "id": "O-epwD8_Qame",
        "outputId": "fb76257f-d646-45e1-f8e6-2c00e1a089fb",
        "colab": {
          "base_uri": "https://localhost:8080/"
        }
      },
      "source": [
        "Weights"
      ],
      "execution_count": null,
      "outputs": [
        {
          "output_type": "execute_result",
          "data": {
            "text/plain": [
              "array([[-0.08324626,  0.26803643, -0.43723637,  0.05652064,  0.30163497,\n",
              "        -0.35748273, -0.5170228 , -0.26723364,  0.36699253],\n",
              "       [ 0.13872361, -0.2696314 , -0.05005473, -0.24906659, -0.22170281,\n",
              "        -0.11982909, -0.45797625,  0.5357492 , -0.10365286],\n",
              "       [-0.44256952,  0.5336232 ,  0.04776531, -0.3345731 , -0.46470326,\n",
              "         0.42481267,  0.45187438,  0.00298536, -0.22374308],\n",
              "       [ 0.15094107, -0.06791842, -0.4401909 ,  0.5649985 ,  0.26897615,\n",
              "        -0.5333973 , -0.08717564,  0.5537528 ,  0.3558004 ],\n",
              "       [ 0.40586996,  0.427096  ,  0.16764987, -0.3531915 ,  0.23370844,\n",
              "         0.16845238, -0.01224244,  0.08065921, -0.2770351 ],\n",
              "       [-0.02629793,  0.21671927, -0.5567778 ,  0.3116389 ,  0.11487502,\n",
              "         0.39335805, -0.37860847,  0.1451428 ,  0.06146669],\n",
              "       [-0.55375755, -0.17853352, -0.42054632,  0.33050716,  0.05432427,\n",
              "        -0.31617105, -0.34356374, -0.00135547,  0.40560198],\n",
              "       [ 0.4417429 ,  0.4667703 ,  0.22772282, -0.41940123,  0.24375147,\n",
              "        -0.08068663,  0.42793393, -0.5737047 ,  0.20798564],\n",
              "       [-0.06405729,  0.47765958,  0.30750453, -0.31779948, -0.2488567 ,\n",
              "        -0.30933133, -0.11709133, -0.20298228, -0.0124281 ]],\n",
              "      dtype=float32)"
            ]
          },
          "metadata": {
            "tags": []
          },
          "execution_count": 137
        }
      ]
    },
    {
      "cell_type": "code",
      "metadata": {
        "id": "D5-fv9-MQ8Xl"
      },
      "source": [
        "def Computer(Arr, Weights):\n",
        "  Input = []\n",
        "  for i in range(len(Arr)):\n",
        "    for j in range(len(Arr[0])):\n",
        "      if(Arr[i][j] == 'O'):\n",
        "        Input.append(2)\n",
        "      elif(Arr[i][j] == 'X'):\n",
        "        Input.append(-2)\n",
        "      else:\n",
        "        Input.append(0)\n",
        "  # for i in range(len(Input)):\n",
        "  #   for j in range(len(Input[i])):\n",
        "  #     if(Input[i][j] == '0'):\n",
        "  #       Input[i][j] = 0\n",
        "  #     elif(Input[i][j] == 'X'):\n",
        "  #       Input[i][j] = -1\n",
        "  #     else:\n",
        "  #       Input[i][j] = 1\n",
        "  # Temp = sum(Input, [])\n",
        "  Input = np.array(Input)\n",
        "  Input.reshape((1, 9))\n",
        "  Array = np.dot(Input, Weights)\n",
        "  for i in range(9):\n",
        "    if(Input[i] != 0):\n",
        "      Array[i] = 0\n",
        "  Position = np.argmax(Array)\n",
        "  X = Position//3\n",
        "  Y = Position - 3*X\n",
        "  Arr[X][Y] = 'O'\n",
        "  return Arr"
      ],
      "execution_count": null,
      "outputs": []
    },
    {
      "cell_type": "code",
      "metadata": {
        "id": "6hiC9jpHTPca",
        "outputId": "96d04a6a-915d-4516-d65e-249fabe12b00",
        "colab": {
          "base_uri": "https://localhost:8080/"
        }
      },
      "source": [
        "Arr"
      ],
      "execution_count": null,
      "outputs": [
        {
          "output_type": "execute_result",
          "data": {
            "text/plain": [
              "[['0', 'O', 'O'], ['0', 'O', 'X'], ['X', 'O', 'X']]"
            ]
          },
          "metadata": {
            "tags": []
          },
          "execution_count": 139
        }
      ]
    },
    {
      "cell_type": "code",
      "metadata": {
        "id": "JPGjEwAkR2vq"
      },
      "source": [
        "Array = Computer(Arr, Weights)"
      ],
      "execution_count": null,
      "outputs": []
    },
    {
      "cell_type": "code",
      "metadata": {
        "id": "eK6PHz15SEJJ",
        "outputId": "ec486681-cc6b-4640-ccc3-2724a3e6fc43",
        "colab": {
          "base_uri": "https://localhost:8080/"
        }
      },
      "source": [
        "Array"
      ],
      "execution_count": null,
      "outputs": [
        {
          "output_type": "execute_result",
          "data": {
            "text/plain": [
              "array([ 1.18787971,  0.6420128 ,  1.06290284, -1.68057898, -0.12928876,\n",
              "        0.62489367,  1.24885315,  0.104884  , -0.85108596])"
            ]
          },
          "metadata": {
            "tags": []
          },
          "execution_count": 141
        }
      ]
    },
    {
      "cell_type": "code",
      "metadata": {
        "id": "miAAMnmnSEsj",
        "outputId": "ead588f2-82cd-4bd3-8808-2509cfbb5416",
        "colab": {
          "base_uri": "https://localhost:8080/"
        }
      },
      "source": [
        "Arr"
      ],
      "execution_count": null,
      "outputs": [
        {
          "output_type": "execute_result",
          "data": {
            "text/plain": [
              "[[0, 1, 1], [0, 1, -1], [-1, 1, -1]]"
            ]
          },
          "metadata": {
            "tags": []
          },
          "execution_count": 142
        }
      ]
    },
    {
      "cell_type": "code",
      "metadata": {
        "id": "DvRM9wmQSeVE"
      },
      "source": [
        "for i in range(3):\n",
        "  for j in range(3):\n",
        "    if(Arr[i][j] != 0):\n",
        "      Array[3*i + j] = 0"
      ],
      "execution_count": null,
      "outputs": []
    },
    {
      "cell_type": "code",
      "metadata": {
        "id": "nSIGpecDUSQT",
        "outputId": "aa05e857-a1a3-43eb-c78a-7874c14814c4",
        "colab": {
          "base_uri": "https://localhost:8080/"
        }
      },
      "source": [
        "Array"
      ],
      "execution_count": null,
      "outputs": [
        {
          "output_type": "execute_result",
          "data": {
            "text/plain": [
              "array([ 1.18787971,  0.        ,  0.        , -1.68057898,  0.        ,\n",
              "        0.        ,  0.        ,  0.        ,  0.        ])"
            ]
          },
          "metadata": {
            "tags": []
          },
          "execution_count": 144
        }
      ]
    },
    {
      "cell_type": "code",
      "metadata": {
        "id": "lmxyyOZ_UTe7",
        "outputId": "9d282be6-262c-481d-b1db-c1bf68bbeaa0",
        "colab": {
          "base_uri": "https://localhost:8080/"
        }
      },
      "source": [
        "Train_X = []\n",
        "Train_Y = []\n",
        "Arr = []\n",
        "for i in range(3):\n",
        "  Arr.append(['0', '0', '0'])\n",
        "i = 1\n",
        "Game_Over = False\n",
        "Display_Board(Arr,  0)\n",
        "while((Game_Over != True) and i <= 9):\n",
        "  Arr = Computer(Arr, Weights)\n",
        "  Train_X.append(sum(Arr, []))\n",
        "  Display_Board(Arr, i)\n",
        "  i = i + 1\n",
        "  Game_Over, Winner = Check_Win(Arr)\n",
        "  if(Game_Over == False):\n",
        "    Arr = Player_Move(Arr)\n",
        "    Game_Over, Winner = Check_Win(Arr)\n",
        "    Display_Board(Arr, i)\n",
        "    Train_X.append(sum(Arr, []))\n",
        "    i = i + 1\n",
        "if(Game_Over == False):\n",
        "  print(Draw)\n",
        "  for j in range(i):\n",
        "    Train_Y.append(0)\n",
        "elif(Game_Over == True):\n",
        "  print(Winner)\n",
        "  for j in range(i - 1):\n",
        "    if(Winner == 'Human'):\n",
        "      Train_Y.append(-1)\n",
        "    else:\n",
        "      Train_Y.append(1)\n",
        "\n",
        "\n",
        "for i in range(len(Train_X)):\n",
        "  for j in range(len(Train_X[i])):\n",
        "    if(Train_X[i][j] == '0'):\n",
        "      Train_X[i][j] = 0\n",
        "    elif(Train_X[i][j] == 'X'):\n",
        "      Train_X[i][j] = -2\n",
        "    else:\n",
        "      Train_X[i][j] = 2\n",
        "model.fit(Train_X, Train_Y, epochs = 2)\n",
        "Weights = model.layers[0].get_weights()\n",
        "Weights = np.array(Weights[0])"
      ],
      "execution_count": null,
      "outputs": [
        {
          "output_type": "stream",
          "text": [
            "Move No: 0\n",
            "\n",
            " # 0 | 0 | 0 #\n",
            "---------------\n",
            " # 0 | 0 | 0 #\n",
            "---------------\n",
            " # 0 | 0 | 0 #\n",
            "Move No: 1\n",
            "\n",
            " # O | 0 | 0 #\n",
            "---------------\n",
            " # 0 | 0 | 0 #\n",
            "---------------\n",
            " # 0 | 0 | 0 #\n",
            "2 2\n",
            "Move No: 2\n",
            "\n",
            " # O | 0 | 0 #\n",
            "---------------\n",
            " # 0 | 0 | 0 #\n",
            "---------------\n",
            " # 0 | 0 | X #\n",
            "Move No: 3\n",
            "\n",
            " # O | 0 | 0 #\n",
            "---------------\n",
            " # 0 | O | 0 #\n",
            "---------------\n",
            " # 0 | 0 | X #\n",
            "0 2\n",
            "Move No: 4\n",
            "\n",
            " # O | 0 | X #\n",
            "---------------\n",
            " # 0 | O | 0 #\n",
            "---------------\n",
            " # 0 | 0 | X #\n",
            "Move No: 5\n",
            "\n",
            " # O | 0 | X #\n",
            "---------------\n",
            " # O | O | 0 #\n",
            "---------------\n",
            " # 0 | 0 | X #\n",
            "1 2\n",
            "Move No: 6\n",
            "\n",
            " # O | 0 | X #\n",
            "---------------\n",
            " # O | O | X #\n",
            "---------------\n",
            " # 0 | 0 | X #\n",
            "Human\n",
            "Epoch 1/2\n",
            "1/1 [==============================] - 0s 1ms/step - loss: 4.0000 - accuracy: 0.0000e+00 - mse: 4.0000\n",
            "Epoch 2/2\n",
            "1/1 [==============================] - 0s 1ms/step - loss: 4.0000 - accuracy: 0.0000e+00 - mse: 4.0000\n"
          ],
          "name": "stdout"
        }
      ]
    },
    {
      "cell_type": "code",
      "metadata": {
        "id": "53O0kq-uXcWD",
        "outputId": "c00ae229-7dfb-49cd-b1ca-e3acf303100d",
        "colab": {
          "base_uri": "https://localhost:8080/"
        }
      },
      "source": [
        "Arr = Computer([['0', '0', 'O'], ['O', '0', '0'], ['X', 'X', '0']], Weights)"
      ],
      "execution_count": null,
      "outputs": [
        {
          "output_type": "stream",
          "text": [
            "(9,)\n"
          ],
          "name": "stdout"
        }
      ]
    },
    {
      "cell_type": "code",
      "metadata": {
        "id": "XrqyIMLYZnr3",
        "outputId": "19d3b85a-00d6-4146-db2d-6316c5f3ca82",
        "colab": {
          "base_uri": "https://localhost:8080/"
        }
      },
      "source": [
        "Arr"
      ],
      "execution_count": null,
      "outputs": [
        {
          "output_type": "execute_result",
          "data": {
            "text/plain": [
              "[['0', '0', 'O'], ['O', '0', 'O'], ['X', 'X', '0']]"
            ]
          },
          "metadata": {
            "tags": []
          },
          "execution_count": 180
        }
      ]
    },
    {
      "cell_type": "code",
      "metadata": {
        "id": "uft3yrWpZvzT"
      },
      "source": [
        "model_1 = tf.keras.models.Sequential([\n",
        "                                      tf.keras.layers.Dense(18, input_shape = [9], activation = 'relu'),\n",
        "                                      tf.keras.layers.Dropout(0.1),\n",
        "                                      tf.keras.layers.Dense(9, activation = 'relu'),\n",
        "                                      tf.keras.layers.Dropout(0.1),\n",
        "                                      tf.keras.layers.Dense(1, activation = \"sigmoid\")\n",
        "])"
      ],
      "execution_count": 15,
      "outputs": []
    },
    {
      "cell_type": "code",
      "metadata": {
        "id": "8vDkxjXxezh5"
      },
      "source": [
        "model_1.compile(optimizer = tf.keras.optimizers.SGD(lr = 0.001), loss = 'mean_squared_error', metrics = ['accuracy', 'mean_squared_error'])"
      ],
      "execution_count": 17,
      "outputs": []
    },
    {
      "cell_type": "code",
      "metadata": {
        "id": "47zWr0O8lLHr"
      },
      "source": [
        "import numpy as np"
      ],
      "execution_count": 54,
      "outputs": []
    },
    {
      "cell_type": "code",
      "metadata": {
        "id": "ZdX16QnSfjAO"
      },
      "source": [
        "def Computer_MOVE(Arr, model):\n",
        "  Input = sum(Arr, [])\n",
        "  Possible_Inputs = []\n",
        "  for i in range(9):\n",
        "    Temp = Input.copy()\n",
        "    if(Input[i] == '0'):\n",
        "      Temp[i] = 'O'\n",
        "      Possible_Inputs.append(Temp)\n",
        "  for i in range(len(Possible_Inputs)):\n",
        "    for j in range(len(Possible_Inputs[0])):\n",
        "      if(Possible_Inputs[i][j] == 'X'):\n",
        "        Possible_Inputs[i][j] = -1\n",
        "      elif(Possible_Inputs[i][j] == 'O'):\n",
        "        Possible_Inputs[i][j] = 1\n",
        "      else:\n",
        "        Possible_Inputs[i][j] = 0\n",
        "  Prediction = model.predict(Possible_Inputs)\n",
        "  Position = np.argmax(Prediction)\n",
        "  Next = Possible_Inputs[Position]\n",
        "  Next_Outcome = []\n",
        "  for i in range(3):\n",
        "    Temp = []\n",
        "    for j in range(3):\n",
        "      if(Next[3*i + j] == 1):\n",
        "        Temp.append('O')\n",
        "      elif(Next[3*i + j] == -1):\n",
        "        Temp.append('X')\n",
        "      else:\n",
        "        Temp.append('0')\n",
        "    Next_Outcome.append(Temp)\n",
        "  return Next_Outcome"
      ],
      "execution_count": 69,
      "outputs": []
    },
    {
      "cell_type": "code",
      "metadata": {
        "id": "lKvVu_Qyhgj8"
      },
      "source": [
        "Next_Outcome = Computer_MOVE([['0', '0', 'O'], ['O', '0', 'O'], ['X', 'X', '0']], model_1)"
      ],
      "execution_count": 70,
      "outputs": []
    },
    {
      "cell_type": "code",
      "metadata": {
        "id": "5cqv1llEhrmD",
        "outputId": "2a5d6f5d-cc86-4a6f-a5a7-a4d155a77f09",
        "colab": {
          "base_uri": "https://localhost:8080/"
        }
      },
      "source": [
        "Possible"
      ],
      "execution_count": 51,
      "outputs": [
        {
          "output_type": "execute_result",
          "data": {
            "text/plain": [
              "[['O', '0', 'O', 'O', '0', 'O', 'X', 'X', '0'],\n",
              " ['0', 'O', 'O', 'O', '0', 'O', 'X', 'X', '0'],\n",
              " ['0', '0', 'O', 'O', 'O', 'O', 'X', 'X', '0'],\n",
              " ['0', '0', 'O', 'O', '0', 'O', 'X', 'X', 'O']]"
            ]
          },
          "metadata": {
            "tags": []
          },
          "execution_count": 51
        }
      ]
    },
    {
      "cell_type": "code",
      "metadata": {
        "id": "sT9VkM4whvQq",
        "outputId": "750b71ac-9622-4261-c52b-e415fbaf6b6e",
        "colab": {
          "base_uri": "https://localhost:8080/"
        }
      },
      "source": [
        "Input"
      ],
      "execution_count": 29,
      "outputs": [
        {
          "output_type": "execute_result",
          "data": {
            "text/plain": [
              "['0', '0', 'O', 'O', '0', 'O', 'X', 'X', '0']"
            ]
          },
          "metadata": {
            "tags": []
          },
          "execution_count": 29
        }
      ]
    },
    {
      "cell_type": "code",
      "metadata": {
        "id": "jZ6uJ1h4iCs0",
        "outputId": "6d8ad60a-afdf-4c7e-9c62-956018d842f3",
        "colab": {
          "base_uri": "https://localhost:8080/",
          "height": 35
        }
      },
      "source": [
        "Input[0]"
      ],
      "execution_count": 30,
      "outputs": [
        {
          "output_type": "execute_result",
          "data": {
            "application/vnd.google.colaboratory.intrinsic+json": {
              "type": "string"
            },
            "text/plain": [
              "'0'"
            ]
          },
          "metadata": {
            "tags": []
          },
          "execution_count": 30
        }
      ]
    },
    {
      "cell_type": "code",
      "metadata": {
        "id": "uF--A4kNiFzr",
        "outputId": "c0c24e5b-3536-49f3-e65a-7df3b2886da2",
        "colab": {
          "base_uri": "https://localhost:8080/"
        }
      },
      "source": [
        "Next_Outcome"
      ],
      "execution_count": 71,
      "outputs": [
        {
          "output_type": "execute_result",
          "data": {
            "text/plain": [
              "[['0', '0', 'O'], ['O', 'O', 'O'], ['X', 'X', '0']]"
            ]
          },
          "metadata": {
            "tags": []
          },
          "execution_count": 71
        }
      ]
    },
    {
      "cell_type": "code",
      "metadata": {
        "id": "XmG7Bk07lca7",
        "outputId": "70556c36-66f5-40dd-fec3-a488ea3a1eab",
        "colab": {
          "base_uri": "https://localhost:8080/",
          "height": 757
        }
      },
      "source": [
        "Train_X = []\n",
        "Train_Y = []\n",
        "Arr = []\n",
        "for i in range(3):\n",
        "  Arr.append(['0', '0', '0'])\n",
        "i = 1\n",
        "Game_Over = False\n",
        "Display_Board(Arr,  0)\n",
        "while((Game_Over != True) and i < 9):\n",
        "  Arr = Computer_MOVE(Arr, model_1)\n",
        "  Train_X.append(sum(Arr, []))\n",
        "  Display_Board(Arr, i)\n",
        "  i = i + 1\n",
        "  Game_Over, Winner = Check_Win(Arr)\n",
        "  if(Game_Over == False):\n",
        "    Arr = Player_Move(Arr)\n",
        "    Game_Over, Winner = Check_Win(Arr)\n",
        "    Display_Board(Arr, i)\n",
        "    Train_X.append(sum(Arr, []))\n",
        "    i = i + 1\n",
        "if(Game_Over == False):\n",
        "  print(\"Draw\")\n",
        "elif(Game_Over == True):\n",
        "  print(Winner)\n",
        "\n",
        "for i in range(len(Train_X)):\n",
        "  for j in range(len(Train_X[i])):\n",
        "    if(Train_X[i][j] == '0'):\n",
        "      Train_X[i][j] = 0\n",
        "    elif(Train_X[i][j] == 'X'):\n",
        "      Train_X[i][j] = -2\n",
        "    else:\n",
        "      Train_X[i][j] = 2\n",
        "if(Winner == \"Draw\"):\n",
        "  for i in range(len(Train_X)):\n",
        "    Train_Y.append(0)\n",
        "elif(Winner == 'Human'):\n",
        "  for i in range(len(Train_X)):\n",
        "    Train_Y.append(-1)\n",
        "else:\n",
        "  for i in range(len(Train_X)):\n",
        "    Train_Y.append(1)\n",
        "model_1.fit(Train_X, Train_Y, epochs = 2)"
      ],
      "execution_count": 82,
      "outputs": [
        {
          "output_type": "stream",
          "text": [
            "Move No: 0\n",
            "\n",
            " # 0 | 0 | 0 #\n",
            "---------------\n",
            " # 0 | 0 | 0 #\n",
            "---------------\n",
            " # 0 | 0 | 0 #\n",
            "Move No: 1\n",
            "\n",
            " # 0 | 0 | 0 #\n",
            "---------------\n",
            " # 0 | O | 0 #\n",
            "---------------\n",
            " # 0 | 0 | 0 #\n"
          ],
          "name": "stdout"
        },
        {
          "output_type": "error",
          "ename": "KeyboardInterrupt",
          "evalue": "ignored",
          "traceback": [
            "\u001b[0;31m---------------------------------------------------------------------------\u001b[0m",
            "\u001b[0;31mKeyboardInterrupt\u001b[0m                         Traceback (most recent call last)",
            "\u001b[0;32m/usr/local/lib/python3.6/dist-packages/ipykernel/kernelbase.py\u001b[0m in \u001b[0;36m_input_request\u001b[0;34m(self, prompt, ident, parent, password)\u001b[0m\n\u001b[1;32m    728\u001b[0m             \u001b[0;32mtry\u001b[0m\u001b[0;34m:\u001b[0m\u001b[0;34m\u001b[0m\u001b[0;34m\u001b[0m\u001b[0m\n\u001b[0;32m--> 729\u001b[0;31m                 \u001b[0mident\u001b[0m\u001b[0;34m,\u001b[0m \u001b[0mreply\u001b[0m \u001b[0;34m=\u001b[0m \u001b[0mself\u001b[0m\u001b[0;34m.\u001b[0m\u001b[0msession\u001b[0m\u001b[0;34m.\u001b[0m\u001b[0mrecv\u001b[0m\u001b[0;34m(\u001b[0m\u001b[0mself\u001b[0m\u001b[0;34m.\u001b[0m\u001b[0mstdin_socket\u001b[0m\u001b[0;34m,\u001b[0m \u001b[0;36m0\u001b[0m\u001b[0;34m)\u001b[0m\u001b[0;34m\u001b[0m\u001b[0;34m\u001b[0m\u001b[0m\n\u001b[0m\u001b[1;32m    730\u001b[0m             \u001b[0;32mexcept\u001b[0m \u001b[0mException\u001b[0m\u001b[0;34m:\u001b[0m\u001b[0;34m\u001b[0m\u001b[0;34m\u001b[0m\u001b[0m\n",
            "\u001b[0;32m/usr/local/lib/python3.6/dist-packages/jupyter_client/session.py\u001b[0m in \u001b[0;36mrecv\u001b[0;34m(self, socket, mode, content, copy)\u001b[0m\n\u001b[1;32m    802\u001b[0m         \u001b[0;32mtry\u001b[0m\u001b[0;34m:\u001b[0m\u001b[0;34m\u001b[0m\u001b[0;34m\u001b[0m\u001b[0m\n\u001b[0;32m--> 803\u001b[0;31m             \u001b[0mmsg_list\u001b[0m \u001b[0;34m=\u001b[0m \u001b[0msocket\u001b[0m\u001b[0;34m.\u001b[0m\u001b[0mrecv_multipart\u001b[0m\u001b[0;34m(\u001b[0m\u001b[0mmode\u001b[0m\u001b[0;34m,\u001b[0m \u001b[0mcopy\u001b[0m\u001b[0;34m=\u001b[0m\u001b[0mcopy\u001b[0m\u001b[0;34m)\u001b[0m\u001b[0;34m\u001b[0m\u001b[0;34m\u001b[0m\u001b[0m\n\u001b[0m\u001b[1;32m    804\u001b[0m         \u001b[0;32mexcept\u001b[0m \u001b[0mzmq\u001b[0m\u001b[0;34m.\u001b[0m\u001b[0mZMQError\u001b[0m \u001b[0;32mas\u001b[0m \u001b[0me\u001b[0m\u001b[0;34m:\u001b[0m\u001b[0;34m\u001b[0m\u001b[0;34m\u001b[0m\u001b[0m\n",
            "\u001b[0;32m/usr/local/lib/python3.6/dist-packages/zmq/sugar/socket.py\u001b[0m in \u001b[0;36mrecv_multipart\u001b[0;34m(self, flags, copy, track)\u001b[0m\n\u001b[1;32m    490\u001b[0m         \"\"\"\n\u001b[0;32m--> 491\u001b[0;31m         \u001b[0mparts\u001b[0m \u001b[0;34m=\u001b[0m \u001b[0;34m[\u001b[0m\u001b[0mself\u001b[0m\u001b[0;34m.\u001b[0m\u001b[0mrecv\u001b[0m\u001b[0;34m(\u001b[0m\u001b[0mflags\u001b[0m\u001b[0;34m,\u001b[0m \u001b[0mcopy\u001b[0m\u001b[0;34m=\u001b[0m\u001b[0mcopy\u001b[0m\u001b[0;34m,\u001b[0m \u001b[0mtrack\u001b[0m\u001b[0;34m=\u001b[0m\u001b[0mtrack\u001b[0m\u001b[0;34m)\u001b[0m\u001b[0;34m]\u001b[0m\u001b[0;34m\u001b[0m\u001b[0;34m\u001b[0m\u001b[0m\n\u001b[0m\u001b[1;32m    492\u001b[0m         \u001b[0;31m# have first part already, only loop while more to receive\u001b[0m\u001b[0;34m\u001b[0m\u001b[0;34m\u001b[0m\u001b[0;34m\u001b[0m\u001b[0m\n",
            "\u001b[0;32mzmq/backend/cython/socket.pyx\u001b[0m in \u001b[0;36mzmq.backend.cython.socket.Socket.recv\u001b[0;34m()\u001b[0m\n",
            "\u001b[0;32mzmq/backend/cython/socket.pyx\u001b[0m in \u001b[0;36mzmq.backend.cython.socket.Socket.recv\u001b[0;34m()\u001b[0m\n",
            "\u001b[0;32mzmq/backend/cython/socket.pyx\u001b[0m in \u001b[0;36mzmq.backend.cython.socket._recv_copy\u001b[0;34m()\u001b[0m\n",
            "\u001b[0;32m/usr/local/lib/python3.6/dist-packages/zmq/backend/cython/checkrc.pxd\u001b[0m in \u001b[0;36mzmq.backend.cython.checkrc._check_rc\u001b[0;34m()\u001b[0m\n",
            "\u001b[0;31mKeyboardInterrupt\u001b[0m: ",
            "\nDuring handling of the above exception, another exception occurred:\n",
            "\u001b[0;31mKeyboardInterrupt\u001b[0m                         Traceback (most recent call last)",
            "\u001b[0;32m<ipython-input-82-d1857ad42d0c>\u001b[0m in \u001b[0;36m<module>\u001b[0;34m()\u001b[0m\n\u001b[1;32m     14\u001b[0m   \u001b[0mGame_Over\u001b[0m\u001b[0;34m,\u001b[0m \u001b[0mWinner\u001b[0m \u001b[0;34m=\u001b[0m \u001b[0mCheck_Win\u001b[0m\u001b[0;34m(\u001b[0m\u001b[0mArr\u001b[0m\u001b[0;34m)\u001b[0m\u001b[0;34m\u001b[0m\u001b[0;34m\u001b[0m\u001b[0m\n\u001b[1;32m     15\u001b[0m   \u001b[0;32mif\u001b[0m\u001b[0;34m(\u001b[0m\u001b[0mGame_Over\u001b[0m \u001b[0;34m==\u001b[0m \u001b[0;32mFalse\u001b[0m\u001b[0;34m)\u001b[0m\u001b[0;34m:\u001b[0m\u001b[0;34m\u001b[0m\u001b[0;34m\u001b[0m\u001b[0m\n\u001b[0;32m---> 16\u001b[0;31m     \u001b[0mArr\u001b[0m \u001b[0;34m=\u001b[0m \u001b[0mPlayer_Move\u001b[0m\u001b[0;34m(\u001b[0m\u001b[0mArr\u001b[0m\u001b[0;34m)\u001b[0m\u001b[0;34m\u001b[0m\u001b[0;34m\u001b[0m\u001b[0m\n\u001b[0m\u001b[1;32m     17\u001b[0m     \u001b[0mGame_Over\u001b[0m\u001b[0;34m,\u001b[0m \u001b[0mWinner\u001b[0m \u001b[0;34m=\u001b[0m \u001b[0mCheck_Win\u001b[0m\u001b[0;34m(\u001b[0m\u001b[0mArr\u001b[0m\u001b[0;34m)\u001b[0m\u001b[0;34m\u001b[0m\u001b[0;34m\u001b[0m\u001b[0m\n\u001b[1;32m     18\u001b[0m     \u001b[0mDisplay_Board\u001b[0m\u001b[0;34m(\u001b[0m\u001b[0mArr\u001b[0m\u001b[0;34m,\u001b[0m \u001b[0mi\u001b[0m\u001b[0;34m)\u001b[0m\u001b[0;34m\u001b[0m\u001b[0;34m\u001b[0m\u001b[0m\n",
            "\u001b[0;32m<ipython-input-10-3f4c2344fafa>\u001b[0m in \u001b[0;36mPlayer_Move\u001b[0;34m(Arr)\u001b[0m\n\u001b[1;32m      1\u001b[0m \u001b[0;32mdef\u001b[0m \u001b[0mPlayer_Move\u001b[0m\u001b[0;34m(\u001b[0m\u001b[0mArr\u001b[0m\u001b[0;34m)\u001b[0m\u001b[0;34m:\u001b[0m\u001b[0;34m\u001b[0m\u001b[0;34m\u001b[0m\u001b[0m\n\u001b[0;32m----> 2\u001b[0;31m   \u001b[0mX\u001b[0m\u001b[0;34m,\u001b[0m \u001b[0mY\u001b[0m \u001b[0;34m=\u001b[0m \u001b[0mlist\u001b[0m\u001b[0;34m(\u001b[0m\u001b[0mmap\u001b[0m\u001b[0;34m(\u001b[0m\u001b[0mint\u001b[0m\u001b[0;34m,\u001b[0m \u001b[0minput\u001b[0m\u001b[0;34m(\u001b[0m\u001b[0;34m)\u001b[0m\u001b[0;34m.\u001b[0m\u001b[0msplit\u001b[0m\u001b[0;34m(\u001b[0m\u001b[0;34m)\u001b[0m\u001b[0;34m)\u001b[0m\u001b[0;34m)\u001b[0m\u001b[0;34m\u001b[0m\u001b[0;34m\u001b[0m\u001b[0m\n\u001b[0m\u001b[1;32m      3\u001b[0m   \u001b[0mArr\u001b[0m\u001b[0;34m[\u001b[0m\u001b[0mX\u001b[0m\u001b[0;34m]\u001b[0m\u001b[0;34m[\u001b[0m\u001b[0mY\u001b[0m\u001b[0;34m]\u001b[0m \u001b[0;34m=\u001b[0m \u001b[0;34m'X'\u001b[0m\u001b[0;34m\u001b[0m\u001b[0;34m\u001b[0m\u001b[0m\n\u001b[1;32m      4\u001b[0m   \u001b[0;32mreturn\u001b[0m \u001b[0mArr\u001b[0m\u001b[0;34m\u001b[0m\u001b[0;34m\u001b[0m\u001b[0m\n",
            "\u001b[0;32m/usr/local/lib/python3.6/dist-packages/ipykernel/kernelbase.py\u001b[0m in \u001b[0;36mraw_input\u001b[0;34m(self, prompt)\u001b[0m\n\u001b[1;32m    702\u001b[0m             \u001b[0mself\u001b[0m\u001b[0;34m.\u001b[0m\u001b[0m_parent_ident\u001b[0m\u001b[0;34m,\u001b[0m\u001b[0;34m\u001b[0m\u001b[0;34m\u001b[0m\u001b[0m\n\u001b[1;32m    703\u001b[0m             \u001b[0mself\u001b[0m\u001b[0;34m.\u001b[0m\u001b[0m_parent_header\u001b[0m\u001b[0;34m,\u001b[0m\u001b[0;34m\u001b[0m\u001b[0;34m\u001b[0m\u001b[0m\n\u001b[0;32m--> 704\u001b[0;31m             \u001b[0mpassword\u001b[0m\u001b[0;34m=\u001b[0m\u001b[0;32mFalse\u001b[0m\u001b[0;34m,\u001b[0m\u001b[0;34m\u001b[0m\u001b[0;34m\u001b[0m\u001b[0m\n\u001b[0m\u001b[1;32m    705\u001b[0m         )\n\u001b[1;32m    706\u001b[0m \u001b[0;34m\u001b[0m\u001b[0m\n",
            "\u001b[0;32m/usr/local/lib/python3.6/dist-packages/ipykernel/kernelbase.py\u001b[0m in \u001b[0;36m_input_request\u001b[0;34m(self, prompt, ident, parent, password)\u001b[0m\n\u001b[1;32m    732\u001b[0m             \u001b[0;32mexcept\u001b[0m \u001b[0mKeyboardInterrupt\u001b[0m\u001b[0;34m:\u001b[0m\u001b[0;34m\u001b[0m\u001b[0;34m\u001b[0m\u001b[0m\n\u001b[1;32m    733\u001b[0m                 \u001b[0;31m# re-raise KeyboardInterrupt, to truncate traceback\u001b[0m\u001b[0;34m\u001b[0m\u001b[0;34m\u001b[0m\u001b[0;34m\u001b[0m\u001b[0m\n\u001b[0;32m--> 734\u001b[0;31m                 \u001b[0;32mraise\u001b[0m \u001b[0mKeyboardInterrupt\u001b[0m\u001b[0;34m\u001b[0m\u001b[0;34m\u001b[0m\u001b[0m\n\u001b[0m\u001b[1;32m    735\u001b[0m             \u001b[0;32melse\u001b[0m\u001b[0;34m:\u001b[0m\u001b[0;34m\u001b[0m\u001b[0;34m\u001b[0m\u001b[0m\n\u001b[1;32m    736\u001b[0m                 \u001b[0;32mbreak\u001b[0m\u001b[0;34m\u001b[0m\u001b[0;34m\u001b[0m\u001b[0m\n",
            "\u001b[0;31mKeyboardInterrupt\u001b[0m: "
          ]
        }
      ]
    },
    {
      "cell_type": "code",
      "metadata": {
        "id": "WJ84HC7dnk5t"
      },
      "source": [
        ""
      ],
      "execution_count": null,
      "outputs": []
    }
  ]
}