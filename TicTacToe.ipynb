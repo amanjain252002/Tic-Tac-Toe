{
  "nbformat": 4,
  "nbformat_minor": 0,
  "metadata": {
    "colab": {
      "name": "TicTacToe.ipynb",
      "provenance": [],
      "authorship_tag": "ABX9TyMcYqmx4YFfxjzYt00QwNK1",
      "include_colab_link": true
    },
    "kernelspec": {
      "name": "python3",
      "display_name": "Python 3"
    }
  },
  "cells": [
    {
      "cell_type": "markdown",
      "metadata": {
        "id": "view-in-github",
        "colab_type": "text"
      },
      "source": [
        "<a href=\"https://colab.research.google.com/github/amanjain252002/Tic-Tac-Toe/blob/main/TicTacToe.ipynb\" target=\"_parent\"><img src=\"https://colab.research.google.com/assets/colab-badge.svg\" alt=\"Open In Colab\"/></a>"
      ]
    },
    {
      "cell_type": "code",
      "metadata": {
        "id": "iOeHWV3hp6ve"
      },
      "source": [
        "import numpy as np\n",
        "import random"
      ],
      "execution_count": 161,
      "outputs": []
    },
    {
      "cell_type": "code",
      "metadata": {
        "id": "Uw-N42MdrpxV"
      },
      "source": [
        "def toss():\n",
        "  toss = random.randint(0,1)\n",
        "  return toss"
      ],
      "execution_count": 129,
      "outputs": []
    },
    {
      "cell_type": "code",
      "metadata": {
        "id": "Au5KGKMPtIWZ"
      },
      "source": [
        "def status(board):\n",
        "  for i in range(3):\n",
        "    if((sum(board[i])==3) or (sum((board.T)[i])==3)):\n",
        "      return 1\n",
        "    elif((sum(board[i])==0) or (sum((board.T)[i])==0)):\n",
        "      return 0\n",
        "  if((sum(np.diag(board))==3) or (sum(np.diag(np.fliplr(board)))==3)):\n",
        "    return 1\n",
        "  elif((sum(np.diag(board))==0) or (sum(np.diag(np.fliplr(board)))==0)):\n",
        "    return 0\n",
        "  else:\n",
        "    return -3"
      ],
      "execution_count": 130,
      "outputs": []
    },
    {
      "cell_type": "code",
      "metadata": {
        "id": "lihzwyBS5nZB"
      },
      "source": [
        "def bot():\n",
        "  return random.randint(0,2), random.randint(0,2)"
      ],
      "execution_count": 143,
      "outputs": []
    },
    {
      "cell_type": "code",
      "metadata": {
        "id": "lb7zpr5q6bG9"
      },
      "source": [
        "def legal(x,y,act_player,board):\n",
        "  if(board[x,y] == -3):\n",
        "    board[x,y] = act_player\n",
        "  else:\n",
        "    print(\"Not A Legal Move\")\n",
        "  return board"
      ],
      "execution_count": 158,
      "outputs": []
    },
    {
      "cell_type": "code",
      "metadata": {
        "id": "ANMtUeI5zlSM"
      },
      "source": [
        "def play():\n",
        "  board = np.full((3,3),-3)\n",
        "  act_player = toss()\n",
        "  n=9\n",
        "  while(n!=0):\n",
        "    if(status(board) == -3):\n",
        "      if(act_player == 1):\n",
        "        print(\"Enter the coord . Ex : 0 2 or 1 1\")\n",
        "        print(\"MOVE: #\",(10-n))\n",
        "        print(board)\n",
        "        px, py = list(map(int,input().split()))\n",
        "        board = legal(px,py,act_player,board)\n",
        "        act_player = 0\n",
        "      elif(act_player == 0):\n",
        "        print(\"Enter the coord . Ex : 0 2 or 1 1\")\n",
        "        print(\"MOVE: #\",(10-n))\n",
        "        print(board)\n",
        "        bx, by = bot()\n",
        "        board = legal(bx,by,act_player,board)\n",
        "        act_player = 1\n",
        "      n-=1\n",
        "    else:\n",
        "      print(board)\n",
        "      if(status(board)==1):\n",
        "        print(\"WINNER WINNER CHICKEN DINNER\")\n",
        "      elif(status(board)==0):\n",
        "        print(\"YOU BETTER DIE\")\n",
        "      break"
      ],
      "execution_count": 164,
      "outputs": []
    },
    {
      "cell_type": "code",
      "metadata": {
        "id": "cGjl9MOj8ezt",
        "outputId": "d1db69ff-2ed8-4f0d-d44e-3e273bee4300",
        "colab": {
          "base_uri": "https://localhost:8080/"
        }
      },
      "source": [
        "play()"
      ],
      "execution_count": 165,
      "outputs": [
        {
          "output_type": "stream",
          "text": [
            "Enter the coord . Ex : 0 2 or 1 1\n",
            "MOVE: # 1\n",
            "[[-3 -3 -3]\n",
            " [-3 -3 -3]\n",
            " [-3 -3 -3]]\n",
            "Enter the coord . Ex : 0 2 or 1 1\n",
            "MOVE: # 2\n",
            "[[-3 -3 -3]\n",
            " [-3 -3 -3]\n",
            " [-3  0 -3]]\n",
            "0 0\n",
            "Enter the coord . Ex : 0 2 or 1 1\n",
            "MOVE: # 3\n",
            "[[ 1 -3 -3]\n",
            " [-3 -3 -3]\n",
            " [-3  0 -3]]\n",
            "Enter the coord . Ex : 0 2 or 1 1\n",
            "MOVE: # 4\n",
            "[[ 1 -3 -3]\n",
            " [ 0 -3 -3]\n",
            " [-3  0 -3]]\n",
            "0 1\n",
            "Enter the coord . Ex : 0 2 or 1 1\n",
            "MOVE: # 5\n",
            "[[ 1  1 -3]\n",
            " [ 0 -3 -3]\n",
            " [-3  0 -3]]\n",
            "Enter the coord . Ex : 0 2 or 1 1\n",
            "MOVE: # 6\n",
            "[[ 1  1 -3]\n",
            " [ 0 -3  0]\n",
            " [-3  0 -3]]\n",
            "0 2\n",
            "[[ 1  1  1]\n",
            " [ 0 -3  0]\n",
            " [-3  0 -3]]\n",
            "WINNER WINNER CHICKEN DINNER\n"
          ],
          "name": "stdout"
        }
      ]
    },
    {
      "cell_type": "code",
      "metadata": {
        "id": "tbw-n49x8jEl"
      },
      "source": [
        ""
      ],
      "execution_count": null,
      "outputs": []
    }
  ]
}