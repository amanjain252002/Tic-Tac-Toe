{
  "nbformat": 4,
  "nbformat_minor": 0,
  "metadata": {
    "colab": {
      "name": "Tic_Tac_Toe.ipynb",
      "provenance": [],
      "include_colab_link": true
    },
    "kernelspec": {
      "name": "python3",
      "display_name": "Python 3"
    },
    "accelerator": "GPU"
  },
  "cells": [
    {
      "cell_type": "markdown",
      "metadata": {
        "id": "view-in-github",
        "colab_type": "text"
      },
      "source": [
        "<a href=\"https://colab.research.google.com/github/amanjain252002/Tic-Tac-Toe/blob/main/Tic_Tac_Toe.ipynb\" target=\"_parent\"><img src=\"https://colab.research.google.com/assets/colab-badge.svg\" alt=\"Open In Colab\"/></a>"
      ]
    },
    {
      "cell_type": "code",
      "metadata": {
        "id": "DBl4XMVO7bzi"
      },
      "source": [
        "import random\n",
        "import numpy as np\n",
        "import tensorflow as tf"
      ],
      "execution_count": 70,
      "outputs": []
    },
    {
      "cell_type": "code",
      "metadata": {
        "id": "mMu4LnR31-Q8"
      },
      "source": [
        "def Display_Board(Arr, i):\n",
        "  print(\"Move No: \" + str(i))\n",
        "  print()\n",
        "  print(\" #\", Arr[0][0], \"|\", Arr[0][1], \"|\", Arr[0][2], \"#\")\n",
        "  print(\"---------------\")\n",
        "  print(\" #\", Arr[1][0], \"|\", Arr[1][1], \"|\", Arr[1][2], \"#\")\n",
        "  print(\"---------------\")\n",
        "  print(\" #\", Arr[2][0], \"|\", Arr[2][1], \"|\", Arr[2][2], \"#\")"
      ],
      "execution_count": 71,
      "outputs": []
    },
    {
      "cell_type": "code",
      "metadata": {
        "id": "kyGfKPQ4r2-m"
      },
      "source": [
        "def Toss():\n",
        "  Number = random.randint(1, 2)\n",
        "  if(Number == 1):\n",
        "    return \"Computer\"\n",
        "  else:\n",
        "    return \"Human\""
      ],
      "execution_count": 72,
      "outputs": []
    },
    {
      "cell_type": "code",
      "metadata": {
        "id": "jtfv0yCP4nag"
      },
      "source": [
        "def Row_Check(A):\n",
        "  Winner = \"No Body\"\n",
        "  for i in range(3):\n",
        "    if((A[i][0] == A[i][1]) and (A[i][0] == A[i][2])):\n",
        "      if(A[i][0] == 'X'):\n",
        "        Winner = \"Human\"\n",
        "        return True, Winner\n",
        "      elif(A[i][0] == 'O'):\n",
        "        Winner = \"Computer\"\n",
        "        return True, Winner\n",
        "  return False, Winner"
      ],
      "execution_count": 73,
      "outputs": []
    },
    {
      "cell_type": "code",
      "metadata": {
        "id": "w3P8Gq6V5oLn"
      },
      "source": [
        "def Column_Check(A):\n",
        "  Winner = \"No Body\"\n",
        "  for i in range(3):\n",
        "    if((A[0][i] == A[1][i]) and (A[0][i] == A[2][i])):\n",
        "      if(A[0][i] == 'X'):\n",
        "        Winner = \"Human\"\n",
        "        return True, Winner\n",
        "      elif(A[0][i] == 'O'):\n",
        "        Winner = \"Computer\"\n",
        "        return True, Winner\n",
        "  return False, Winner"
      ],
      "execution_count": 74,
      "outputs": []
    },
    {
      "cell_type": "code",
      "metadata": {
        "id": "Z7VAB5Gm57R-"
      },
      "source": [
        "def Digonal_Check(A):\n",
        "  Winner = \"No Body\"\n",
        "  if((A[0][0] == A[1][1]) and (A[0][0] == A[2][2])):\n",
        "    if(A[0][0] == 'X'):\n",
        "      Winner = \"Human\"\n",
        "      return True, Winner\n",
        "    elif(A[0][0] == 'O'):\n",
        "      Winner = \"Computer\"\n",
        "      return True, Winner\n",
        "  elif((A[0][2] == A[1][1]) and (A[0][2] == A[2][0])):\n",
        "    if(A[0][2] == 'X'):\n",
        "      Winner = \"Human\"\n",
        "      return True, Winner\n",
        "    elif(A[0][2] == 'O'):\n",
        "      Winner = \"Computer\"\n",
        "      return True, Winner\n",
        "  return False, Winner"
      ],
      "execution_count": 75,
      "outputs": []
    },
    {
      "cell_type": "code",
      "metadata": {
        "id": "mw-REqan3PXw"
      },
      "source": [
        "def Check_Win(Arr):\n",
        "  Game_Over = False\n",
        "  Winner = \"No Body\"\n",
        "  Game_Over_1, Winner_1 = Row_Check(Arr)\n",
        "  Game_Over_2, Winner_2 = Column_Check(Arr)\n",
        "  Game_Over_3, Winner_3 = Digonal_Check(Arr)\n",
        "  if(Game_Over_1 or Game_Over_2 or Game_Over_3):\n",
        "    Game_Over = True\n",
        "    if(Game_Over_1):\n",
        "      Winner = Winner_1\n",
        "    elif(Game_Over_2):\n",
        "      Winner = Winner_2\n",
        "    else:\n",
        "      Winner = Winner_3\n",
        "  return Game_Over, Winner"
      ],
      "execution_count": 76,
      "outputs": []
    },
    {
      "cell_type": "code",
      "metadata": {
        "id": "EsJaE9pB7n8u"
      },
      "source": [
        "def Training_Bot(Arr):\n",
        "  X = random.randint(0, 2)\n",
        "  Y = random.randint(0, 2)\n",
        "  while(Arr[X][Y] != '0'):\n",
        "    X = random.randint(0, 2)\n",
        "    Y = random.randint(0, 2)\n",
        "  Arr[X][Y] = 'X'\n",
        "  return Arr"
      ],
      "execution_count": 77,
      "outputs": []
    },
    {
      "cell_type": "code",
      "metadata": {
        "id": "6RL5U-OB9-p4"
      },
      "source": [
        "def Player_Move(Arr):\n",
        "  X, Y = list(map(int, input().split()))\n",
        "  Arr[X][Y] = 'X'\n",
        "  return Arr"
      ],
      "execution_count": 78,
      "outputs": []
    },
    {
      "cell_type": "code",
      "metadata": {
        "id": "uft3yrWpZvzT"
      },
      "source": [
        "model = tf.keras.models.Sequential([\n",
        "                                      tf.keras.layers.Dense(64, input_shape = [9], activation = 'relu'),\n",
        "                                      tf.keras.layers.Dense(128, activation = 'relu'),\n",
        "                                      tf.keras.layers.Dense(128, activation = 'relu'),\n",
        "                                      tf.keras.layers.Dense(128, activation = 'relu'),\n",
        "                                      tf.keras.layers.Dense(1, activation = 'sigmoid')\n",
        "])"
      ],
      "execution_count": 79,
      "outputs": []
    },
    {
      "cell_type": "code",
      "metadata": {
        "id": "8vDkxjXxezh5"
      },
      "source": [
        "model.compile(optimizer = 'adam', loss = 'BinaryCrossentropy', metrics = 'BinaryCrossentropy')"
      ],
      "execution_count": 80,
      "outputs": []
    },
    {
      "cell_type": "code",
      "metadata": {
        "id": "ZdX16QnSfjAO"
      },
      "source": [
        "def Computer_Move(Arr, model):\n",
        "  Input = sum(Arr, [])\n",
        "  Possible_Inputs = []\n",
        "  for i in range(9):\n",
        "    Temp = Input.copy()\n",
        "    if(Input[i] == '0'):\n",
        "      Temp[i] = 'O'\n",
        "      Possible_Inputs.append(Temp)\n",
        "  for i in range(len(Possible_Inputs)):\n",
        "    for j in range(len(Possible_Inputs[0])):\n",
        "      if(Possible_Inputs[i][j] == 'X'):\n",
        "        Possible_Inputs[i][j] = -1\n",
        "      elif(Possible_Inputs[i][j] == 'O'):\n",
        "        Possible_Inputs[i][j] = 1\n",
        "      else:\n",
        "        Possible_Inputs[i][j] = 0\n",
        "  Prediction = model.predict(Possible_Inputs)\n",
        "  Position = np.argmax(Prediction)\n",
        "  Next = Possible_Inputs[Position]\n",
        "  Next_Outcome = []\n",
        "  for i in range(3):\n",
        "    Temp = []\n",
        "    for j in range(3):\n",
        "      if(Next[3*i + j] == 1):\n",
        "        Temp.append('O')\n",
        "      elif(Next[3*i + j] == -1):\n",
        "        Temp.append('X')\n",
        "      else:\n",
        "        Temp.append('0')\n",
        "    Next_Outcome.append(Temp)\n",
        "  return Next_Outcome"
      ],
      "execution_count": 81,
      "outputs": []
    },
    {
      "cell_type": "code",
      "metadata": {
        "id": "lKvVu_Qyhgj8"
      },
      "source": [
        "Next_Outcome = Computer_Move([['0', '0', 'O'], ['O', '0', 'O'], ['X', 'X', '0']], model)"
      ],
      "execution_count": 82,
      "outputs": []
    },
    {
      "cell_type": "code",
      "metadata": {
        "id": "uF--A4kNiFzr",
        "outputId": "e42d2975-2d96-417c-83c1-91331ce684af",
        "colab": {
          "base_uri": "https://localhost:8080/"
        }
      },
      "source": [
        "Next_Outcome"
      ],
      "execution_count": 83,
      "outputs": [
        {
          "output_type": "execute_result",
          "data": {
            "text/plain": [
              "[['0', 'O', 'O'], ['O', '0', 'O'], ['X', 'X', '0']]"
            ]
          },
          "metadata": {
            "tags": []
          },
          "execution_count": 83
        }
      ]
    },
    {
      "cell_type": "code",
      "metadata": {
        "id": "WJ84HC7dnk5t"
      },
      "source": [
        "def Training(model, epochs):\n",
        "  Win = 0\n",
        "  Lose = 0\n",
        "  Draw = 0\n",
        "  for i in range(epochs):\n",
        "    Train_X = []\n",
        "    Train_Y = []\n",
        "    Arr = []\n",
        "    for i in range(3):\n",
        "      Arr.append(['0', '0', '0'])\n",
        "    i = 1\n",
        "    Game_Over = False\n",
        "    Start = Toss()\n",
        "    while((Game_Over != True) and i < 9):\n",
        "      if(Start == 'Computer'):\n",
        "        Arr = Computer_Move(Arr, model)\n",
        "        Train_X.append(sum(Arr, []))\n",
        "        i = i + 1\n",
        "        Game_Over, Winner = Check_Win(Arr)\n",
        "        if(Game_Over == False):\n",
        "          Arr = Training_Bot(Arr)\n",
        "          Game_Over, Winner = Check_Win(Arr)\n",
        "          Train_X.append(sum(Arr, []))\n",
        "          i = i + 1\n",
        "      else:\n",
        "        Arr = Training_Bot(Arr)\n",
        "        Game_Over, Winner = Check_Win(Arr)\n",
        "        Train_X.append(sum(Arr, []))\n",
        "        i = i + 1\n",
        "        if(Game_Over == False):\n",
        "          Arr = Computer_Move(Arr, model)\n",
        "          Train_X.append(sum(Arr, []))\n",
        "          i = i + 1\n",
        "          Game_Over, Winner = Check_Win(Arr)\n",
        "\n",
        "    for i in range(len(Train_X)):\n",
        "      for j in range(len(Train_X[i])):\n",
        "        if(Train_X[i][j] == '0'):\n",
        "          Train_X[i][j] = 0\n",
        "        elif(Train_X[i][j] == 'X'):\n",
        "          Train_X[i][j] = -1\n",
        "        else:\n",
        "          Train_X[i][j] = 1\n",
        "    if(Winner == \"Draw\"):\n",
        "      for i in range(len(Train_X)):\n",
        "        Train_Y.append(0)\n",
        "      Draw = Draw + 1\n",
        "    elif(Winner == 'Human'):\n",
        "      for i in range(len(Train_X)):\n",
        "        Train_Y.append(0)\n",
        "      Lose = Lose + 1\n",
        "    else:\n",
        "      for i in range(len(Train_X)):\n",
        "        Train_Y.append(1)\n",
        "      Win = Win + 1\n",
        "    model.fit(Train_X, Train_Y, epochs = 2)\n",
        "  return model, Win, Lose, Draw"
      ],
      "execution_count": 84,
      "outputs": []
    },
    {
      "cell_type": "code",
      "metadata": {
        "id": "QiD-8cuv9uKz"
      },
      "source": [
        "model, Win, Lose, Draw = Training(model, 100)"
      ],
      "execution_count": null,
      "outputs": []
    },
    {
      "cell_type": "code",
      "metadata": {
        "id": "I7mp7PgEFakG",
        "outputId": "9cf4bd19-7b90-4c34-9c6e-3dc7729863b6",
        "colab": {
          "base_uri": "https://localhost:8080/"
        }
      },
      "source": [
        "print(Win, Lose, Draw)"
      ],
      "execution_count": 88,
      "outputs": [
        {
          "output_type": "stream",
          "text": [
            "81 19 0\n"
          ],
          "name": "stdout"
        }
      ]
    },
    {
      "cell_type": "code",
      "metadata": {
        "id": "ElSGWaxjGMEa"
      },
      "source": [
        "def Game():\n",
        "  Train_X = []\n",
        "  Train_Y = []\n",
        "  Arr = []\n",
        "  for i in range(3):\n",
        "    Arr.append(['0', '0', '0'])\n",
        "  i = 1\n",
        "  Game_Over = False\n",
        "  Display_Board(Arr,  0)\n",
        "\n",
        "  Start = Toss()\n",
        "  while((Game_Over != True) and i < 9):\n",
        "    if(Start == 'Computer'):\n",
        "      Arr = Computer_Move(Arr, model)\n",
        "      Train_X.append(sum(Arr, []))\n",
        "      Display_Board(Arr, i)\n",
        "      i = i + 1\n",
        "      Game_Over, Winner = Check_Win(Arr)\n",
        "      if(Game_Over == False):\n",
        "        Arr = Player_Move(Arr)\n",
        "        Game_Over, Winner = Check_Win(Arr)\n",
        "        Display_Board(Arr, i)\n",
        "        Train_X.append(sum(Arr, []))\n",
        "        i = i + 1\n",
        "    else:\n",
        "      Arr = Player_Move(Arr)\n",
        "      Game_Over, Winner = Check_Win(Arr)\n",
        "      Display_Board(Arr, i)\n",
        "      Train_X.append(sum(Arr, []))\n",
        "      i = i + 1\n",
        "      if(Game_Over == False):\n",
        "        Arr = Computer_Move(Arr, model)\n",
        "        Train_X.append(sum(Arr, []))\n",
        "        Display_Board(Arr, i)\n",
        "        i = i + 1\n",
        "        Game_Over, Winner = Check_Win(Arr)\n",
        "\n",
        "  if(Game_Over == False):\n",
        "    print(\"Draw\")\n",
        "  elif(Game_Over == True):\n",
        "    print(Winner)\n",
        "\n",
        "  for i in range(len(Train_X)):\n",
        "    for j in range(len(Train_X[i])):\n",
        "      if(Train_X[i][j] == '0'):\n",
        "        Train_X[i][j] = 0\n",
        "      elif(Train_X[i][j] == 'X'):\n",
        "        Train_X[i][j] = -1\n",
        "      else:\n",
        "        Train_X[i][j] = 1\n",
        "  if(Winner == \"Draw\"):\n",
        "    for i in range(len(Train_X)):\n",
        "      Train_Y.append(0)\n",
        "  elif(Winner == 'Human'):\n",
        "    for i in range(len(Train_X)):\n",
        "      Train_Y.append(0)\n",
        "  else:\n",
        "    for i in range(len(Train_X)):\n",
        "      Train_Y.append(1)\n",
        "  model.fit(Train_X, Train_Y, epochs = 1)"
      ],
      "execution_count": 89,
      "outputs": []
    },
    {
      "cell_type": "code",
      "metadata": {
        "id": "CZOTb-_7STAG",
        "outputId": "52ea4d25-711e-4f81-a0ca-330cbb1dc448",
        "colab": {
          "base_uri": "https://localhost:8080/"
        }
      },
      "source": [
        "Game()"
      ],
      "execution_count": 90,
      "outputs": [
        {
          "output_type": "stream",
          "text": [
            "Move No: 0\n",
            "\n",
            " # 0 | 0 | 0 #\n",
            "---------------\n",
            " # 0 | 0 | 0 #\n",
            "---------------\n",
            " # 0 | 0 | 0 #\n",
            "1 1\n",
            "Move No: 1\n",
            "\n",
            " # 0 | 0 | 0 #\n",
            "---------------\n",
            " # 0 | X | 0 #\n",
            "---------------\n",
            " # 0 | 0 | 0 #\n",
            "Move No: 2\n",
            "\n",
            " # 0 | 0 | 0 #\n",
            "---------------\n",
            " # 0 | X | 0 #\n",
            "---------------\n",
            " # 0 | 0 | O #\n",
            "0 1\n",
            "Move No: 3\n",
            "\n",
            " # 0 | X | 0 #\n",
            "---------------\n",
            " # 0 | X | 0 #\n",
            "---------------\n",
            " # 0 | 0 | O #\n",
            "Move No: 4\n",
            "\n",
            " # O | X | 0 #\n",
            "---------------\n",
            " # 0 | X | 0 #\n",
            "---------------\n",
            " # 0 | 0 | O #\n",
            "2 1\n",
            "Move No: 5\n",
            "\n",
            " # O | X | 0 #\n",
            "---------------\n",
            " # 0 | X | 0 #\n",
            "---------------\n",
            " # 0 | X | O #\n",
            "Human\n",
            "1/1 [==============================] - 0s 1ms/step - loss: 1.2446 - binary_crossentropy: 1.2446\n"
          ],
          "name": "stdout"
        }
      ]
    }
  ]
}